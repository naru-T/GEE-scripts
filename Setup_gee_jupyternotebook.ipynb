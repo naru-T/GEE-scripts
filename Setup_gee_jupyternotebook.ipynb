{
 "cells": [
  {
   "cell_type": "markdown",
   "metadata": {},
   "source": [
    "# 0. Request google earth engine access"
   ]
  },
  {
   "cell_type": "code",
   "execution_count": 10,
   "metadata": {
    "collapsed": true
   },
   "outputs": [],
   "source": [
    "##https://earthengine.google.com/\n",
    "##use your google account"
   ]
  },
  {
   "cell_type": "markdown",
   "metadata": {},
   "source": [
    "# 1. setup docker"
   ]
  },
  {
   "cell_type": "code",
   "execution_count": 2,
   "metadata": {
    "collapsed": false
   },
   "outputs": [],
   "source": [
    "###### see here:  http://earthenginesummit2016.earthoutreach.org/training-materials \n",
    "\n",
    "#1.1 install docker\n",
    "#https://www.docker.com/\n",
    "#1.2 if you do not install virtual machine yet, install it from here: https://www.virtualbox.org/wiki/Downloads\n",
    "#1.3 create virtual machine\n",
    "# see here:  (EN) https://docs.docker.com/machine/get-started/  or (JP) http://docs.docker.jp/machine/get-started.html  or  \n",
    "## from terminal\n",
    "#docker-machine create --driver virtualbox default\n",
    "## you now find default machine\n",
    "#docker-machine ls"
   ]
  },
  {
   "cell_type": "markdown",
   "metadata": {},
   "source": [
    "# 2. setup docker container"
   ]
  },
  {
   "cell_type": "code",
   "execution_count": 4,
   "metadata": {
    "collapsed": true
   },
   "outputs": [],
   "source": [
    "#2.1 (OSX) Start up the docker-machine VM\n",
    "#docker-machine start\n",
    "#eval $(docker-machine env default)\n",
    "#2.2 Start up the Docker container\n",
    "#docker run -d -P tylere/docker-debian-python3-scipy-notebook\n",
    "#2.3 Determine the IP and port for constructing a URL for viewing the notebooks\n",
    "#docker-machine ip default\n",
    "#docker ps"
   ]
  },
  {
   "cell_type": "markdown",
   "metadata": {},
   "source": [
    "# 3. access from ipython notebook"
   ]
  },
  {
   "cell_type": "code",
   "execution_count": 7,
   "metadata": {
    "collapsed": true
   },
   "outputs": [],
   "source": [
    "#see here: https://docs.google.com/presentation/d/1N7W09Njvz9ROrarp8SspA0kSC17Z0bzBbzTxCxskdYI/edit#slide=id.g14e75e974e_0_664\n",
    "#3.1 run jupyternotebook\n",
    "#from terminal\n",
    "#jupyter notebook\n",
    "#Select New -> Terminal\n",
    "#Type in:\n",
    "#earthengine authenticate\n",
    "\n",
    "#git clone https://github.com/tylere/docker-tmpnb-ee.git \n",
    "#Follow the instructions to complete authentication.\n",
    "#go to New -> Python[root]\n",
    "#\t>>> import ee\n",
    "#\t>>> ee.Initialize()"
   ]
  },
  {
   "cell_type": "code",
   "execution_count": 16,
   "metadata": {
    "collapsed": true
   },
   "outputs": [],
   "source": [
    "%matplotlib inline\n",
    "import ee\n",
    "ee.Initialize()"
   ]
  },
  {
   "cell_type": "code",
   "execution_count": 20,
   "metadata": {
    "collapsed": false
   },
   "outputs": [
    {
     "name": "stdout",
     "output_type": "stream",
     "text": [
      "https://earthengine.googleapis.com/api/thumb?thumbid=f80f7287fc7bd84d2b68869865d7fdcf&token=d383bb9e6f1575119252ffb8cca8965b\n"
     ]
    }
   ],
   "source": [
    "## try to map SRTM\n",
    "srtm = ee.Image(\"CGIAR/SRTM90_V4\")\n",
    "url = srtm.getThumbUrl()\n",
    "print(url)"
   ]
  },
  {
   "cell_type": "markdown",
   "metadata": {},
   "source": [
    "What is returned by the .getInfo() command is a Python dictionary. If needed, we could parse out this information and make use of it in our analysis."
   ]
  },
  {
   "cell_type": "code",
   "execution_count": 21,
   "metadata": {
    "collapsed": false
   },
   "outputs": [
    {
     "data": {
      "text/html": [
       "<img src=\"https://earthengine.googleapis.com/api/thumb?thumbid=f80f7287fc7bd84d2b68869865d7fdcf&token=d383bb9e6f1575119252ffb8cca8965b\"/>"
      ],
      "text/plain": [
       "<IPython.core.display.Image object>"
      ]
     },
     "execution_count": 21,
     "metadata": {},
     "output_type": "execute_result"
    }
   ],
   "source": [
    "from IPython.display import Image\n",
    "Image(url=url)"
   ]
  },
  {
   "cell_type": "code",
   "execution_count": 15,
   "metadata": {
    "collapsed": false
   },
   "outputs": [
    {
     "data": {
      "text/plain": [
       "['And',\n",
       " 'Not',\n",
       " 'Or',\n",
       " 'abs',\n",
       " 'acos',\n",
       " 'add',\n",
       " 'addBands',\n",
       " 'args',\n",
       " 'arrayAccum',\n",
       " 'arrayDimensions',\n",
       " 'arrayDotProduct',\n",
       " 'arrayFlatten',\n",
       " 'arrayGet',\n",
       " 'arrayLength',\n",
       " 'arrayLengths',\n",
       " 'arrayMask',\n",
       " 'arrayProject',\n",
       " 'arrayReduce',\n",
       " 'arrayRepeat',\n",
       " 'arraySlice',\n",
       " 'arraySort',\n",
       " 'arrayTranspose',\n",
       " 'aside',\n",
       " 'asin',\n",
       " 'atan',\n",
       " 'atan2',\n",
       " 'bandNames',\n",
       " 'bandTypes',\n",
       " 'bilinearSample',\n",
       " 'bitCount',\n",
       " 'bitsToArrayImage',\n",
       " 'bitwiseAnd',\n",
       " 'bitwiseNot',\n",
       " 'bitwiseOr',\n",
       " 'bitwiseXor',\n",
       " 'bitwise_and',\n",
       " 'bitwise_not',\n",
       " 'bitwise_or',\n",
       " 'bitwise_xor',\n",
       " 'byte',\n",
       " 'cast',\n",
       " 'cat',\n",
       " 'cbrt',\n",
       " 'ceil',\n",
       " 'changeProj',\n",
       " 'clamp',\n",
       " 'classify',\n",
       " 'clip',\n",
       " 'clipToCollection',\n",
       " 'cluster',\n",
       " 'combine_',\n",
       " 'connectedComponents',\n",
       " 'connectedPixelCount',\n",
       " 'constant',\n",
       " 'convolve',\n",
       " 'copyProperties',\n",
       " 'cos',\n",
       " 'cosh',\n",
       " 'cumulativeCost',\n",
       " 'date',\n",
       " 'derivative',\n",
       " 'digamma',\n",
       " 'displace',\n",
       " 'displacement',\n",
       " 'distance',\n",
       " 'divide',\n",
       " 'double',\n",
       " 'encode',\n",
       " 'entropy',\n",
       " 'eq',\n",
       " 'erf',\n",
       " 'erfInv',\n",
       " 'erfc',\n",
       " 'erfcInv',\n",
       " 'exp',\n",
       " 'expression',\n",
       " 'fastDistanceTransform',\n",
       " 'first',\n",
       " 'firstNonZero',\n",
       " 'first_nonzero',\n",
       " 'float',\n",
       " 'floor',\n",
       " 'focal_max',\n",
       " 'focal_mean',\n",
       " 'focal_median',\n",
       " 'focal_min',\n",
       " 'focal_mode',\n",
       " 'freeze',\n",
       " 'func',\n",
       " 'gamma',\n",
       " 'geometry',\n",
       " 'get',\n",
       " 'getDownloadURL',\n",
       " 'getDownloadUrl',\n",
       " 'getInfo',\n",
       " 'getMapId',\n",
       " 'getThumbURL',\n",
       " 'getThumbUrl',\n",
       " 'glcmTexture',\n",
       " 'gradient',\n",
       " 'gt',\n",
       " 'gte',\n",
       " 'hsvToRgb',\n",
       " 'hsvtorgb',\n",
       " 'hypot',\n",
       " 'id',\n",
       " 'initialize',\n",
       " 'int',\n",
       " 'int16',\n",
       " 'int32',\n",
       " 'int64',\n",
       " 'int8',\n",
       " 'interpolate',\n",
       " 'isVariable',\n",
       " 'lanczos',\n",
       " 'leftShift',\n",
       " 'left_shift',\n",
       " 'load',\n",
       " 'log',\n",
       " 'log10',\n",
       " 'long',\n",
       " 'lt',\n",
       " 'lte',\n",
       " 'mask',\n",
       " 'matrixDeterminant',\n",
       " 'matrixDiagonal',\n",
       " 'matrixFnorm',\n",
       " 'matrixIdentity',\n",
       " 'matrixInverse',\n",
       " 'matrixMultiply',\n",
       " 'matrixPseudoInverse',\n",
       " 'matrixSolve',\n",
       " 'matrixToDiag',\n",
       " 'matrixTrace',\n",
       " 'matrixTranspose',\n",
       " 'max',\n",
       " 'medialAxis',\n",
       " 'metadata',\n",
       " 'min',\n",
       " 'mod',\n",
       " 'multiply',\n",
       " 'name',\n",
       " 'neighborhoodToBands',\n",
       " 'neq',\n",
       " 'normalizedDifference',\n",
       " 'paint',\n",
       " 'parseExpression',\n",
       " 'pixelArea',\n",
       " 'pixelCoordinates',\n",
       " 'pixelLonLat',\n",
       " 'polynomial',\n",
       " 'pow',\n",
       " 'projection',\n",
       " 'propertyNames',\n",
       " 'randomVisualizer',\n",
       " 'reduce',\n",
       " 'reduceNeighborhood',\n",
       " 'reduceRegion',\n",
       " 'reduceRegions',\n",
       " 'reduceResolution',\n",
       " 'reduceToVectors',\n",
       " 'reduceToVectorsStreaming',\n",
       " 'register',\n",
       " 'remap',\n",
       " 'rename',\n",
       " 'reproject',\n",
       " 'resample',\n",
       " 'reset',\n",
       " 'rgb',\n",
       " 'rgbToHsv',\n",
       " 'rgbtohsv',\n",
       " 'rightShift',\n",
       " 'right_shift',\n",
       " 'round',\n",
       " 'rsedTransform',\n",
       " 'sample',\n",
       " 'sampleRegions',\n",
       " 'select',\n",
       " 'serialize',\n",
       " 'set',\n",
       " 'setMulti',\n",
       " 'short',\n",
       " 'sin',\n",
       " 'sinh',\n",
       " 'sldStyle',\n",
       " 'slice',\n",
       " 'sqrt',\n",
       " 'stats',\n",
       " 'subtract',\n",
       " 'tan',\n",
       " 'tanh',\n",
       " 'toArray',\n",
       " 'toByte',\n",
       " 'toDictionary',\n",
       " 'toDouble',\n",
       " 'toFloat',\n",
       " 'toInt',\n",
       " 'toInt16',\n",
       " 'toInt32',\n",
       " 'toInt64',\n",
       " 'toInt8',\n",
       " 'toLong',\n",
       " 'toShort',\n",
       " 'toUint16',\n",
       " 'toUint32',\n",
       " 'toUint8',\n",
       " 'trainClassifier',\n",
       " 'translate',\n",
       " 'trigamma',\n",
       " 'uint16',\n",
       " 'uint32',\n",
       " 'uint8',\n",
       " 'unitScale',\n",
       " 'unmask',\n",
       " 'unmix',\n",
       " 'updateMask',\n",
       " 'varName',\n",
       " 'visualize',\n",
       " 'where',\n",
       " 'zeroCrossing']"
      ]
     },
     "execution_count": 15,
     "metadata": {},
     "output_type": "execute_result"
    }
   ],
   "source": [
    "## see list of available commands\n",
    "image_object = ee.Image()\n",
    "[method for method in dir(image_object) if not method.startswith('_')]"
   ]
  },
  {
   "cell_type": "code",
   "execution_count": 23,
   "metadata": {
    "collapsed": true
   },
   "outputs": [],
   "source": [
    "## following commands are same in EE 101.ipynb in docker-tmpnb-ee\n",
    "#Earth Engine 101\n",
    "###again\n",
    "srtm = ee.Image(\"CGIAR/SRTM90_V4\")"
   ]
  },
  {
   "cell_type": "markdown",
   "metadata": {},
   "source": [
    "By default, the .getThumbUrl() method returns the entire extent of the image, which in this case is global. We can also specify a region, to show a smaller area."
   ]
  },
  {
   "cell_type": "code",
   "execution_count": 24,
   "metadata": {
    "collapsed": false
   },
   "outputs": [
    {
     "data": {
      "text/html": [
       "<img src=\"https://earthengine.googleapis.com/api/thumb?thumbid=3a1ae0f18b539ae6aee809922fb4a9b5&token=b954e58cd744a99e2769421f7f6694ff\"/>"
      ],
      "text/plain": [
       "<IPython.core.display.Image object>"
      ]
     },
     "execution_count": 24,
     "metadata": {},
     "output_type": "execute_result"
    }
   ],
   "source": [
    "point = ee.Geometry.Point(-122.0918, 37.422)\n",
    "region_bay_area = point.buffer(50000).bounds().getInfo()['coordinates']\n",
    "Image(url=srtm.getThumbUrl({'min':0, 'max':1000, 'region':region_bay_area}))"
   ]
  },
  {
   "cell_type": "markdown",
   "metadata": {},
   "source": [
    "# Load and Filter an Image Collection\n",
    "So far we have been working with a single image, but there are also interesting datasets that are distributed as a series of images (such as images collected by satellite). Head back to the Earth Engine Public Data Catalog, search for landsat 8 toa, and load up the data description page for the USGS Landsat 8 TOA Reflectance (Orthorectified) dataset. The ID for this Image Collection is LANDSAT/LC8_L1T_TOA."
   ]
  },
  {
   "cell_type": "code",
   "execution_count": 26,
   "metadata": {
    "collapsed": false
   },
   "outputs": [
    {
     "data": {
      "text/html": [
       "<img src=\"https://earthengine.googleapis.com/api/thumb?thumbid=9a64736fe134cdc7fb5f257dadb8455f&token=82c943e59422ab9bb1c357072e586687\"/>"
      ],
      "text/plain": [
       "<IPython.core.display.Image object>"
      ]
     },
     "execution_count": 26,
     "metadata": {},
     "output_type": "execute_result"
    }
   ],
   "source": [
    "# Create a reference to the image collection\n",
    "l8 = ee.ImageCollection('LANDSAT/LC8_L1T_TOA')\n",
    "# Filter the collection down to a two week period\n",
    "filtered = l8.filterDate('2013-05-01', '2013-05-15');\n",
    "# Use the mosaic reducer, to select the most recent pixel in areas of overlap\n",
    "l8_image = filtered.mosaic()\n",
    "# Define a region roughly covering California\n",
    "point = ee.Geometry.Point(-118, 37)\n",
    "region_california = point.buffer(500000).bounds().getInfo()['coordinates']\n",
    "# And finally display the image.\n",
    "Image(url=l8_image.getThumbUrl({'region':region_california}))"
   ]
  },
  {
   "cell_type": "markdown",
   "metadata": {},
   "source": [
    "# Playing with Image Bands\n",
    "Using the default image visualization parameters, that doesn't look like much. So we add some visualization data, to display a true color image."
   ]
  },
  {
   "cell_type": "code",
   "execution_count": 27,
   "metadata": {
    "collapsed": false
   },
   "outputs": [
    {
     "data": {
      "text/html": [
       "<img src=\"https://earthengine.googleapis.com/api/thumb?thumbid=97ca749c7f1cfa560f9fb4d31533c5d9&token=90d9efb2c9ca4e9f31e67fb6eb7ac8ea\"/>"
      ],
      "text/plain": [
       "<IPython.core.display.Image object>"
      ]
     },
     "execution_count": 27,
     "metadata": {},
     "output_type": "execute_result"
    }
   ],
   "source": [
    "Image(url=l8_image.getThumbUrl({\n",
    "    'region':region_california,\n",
    "    'bands':'B4,B3,B2',\n",
    "    'min':0,\n",
    "    'max':0.3\n",
    "}))"
   ]
  },
  {
   "cell_type": "markdown",
   "metadata": {},
   "source": [
    "And by changing the bands displayed, we can also display a false color image."
   ]
  },
  {
   "cell_type": "code",
   "execution_count": 28,
   "metadata": {
    "collapsed": false
   },
   "outputs": [
    {
     "data": {
      "text/html": [
       "<img src=\"https://earthengine.googleapis.com/api/thumb?thumbid=f1bfde8ef3fa0d3d682e806a722b5104&token=efb27182a4185b400963934f81cbba4c\"/>"
      ],
      "text/plain": [
       "<IPython.core.display.Image object>"
      ]
     },
     "execution_count": 28,
     "metadata": {},
     "output_type": "execute_result"
    }
   ],
   "source": [
    "Image(url=l8_image.getThumbUrl({\n",
    "    'region':region_california,\n",
    "    'bands':'B5,B4,B3',\n",
    "    'min':0,\n",
    "    'max':0.3\n",
    "}))"
   ]
  },
  {
   "cell_type": "markdown",
   "metadata": {},
   "source": [
    "# Play with Reducing Image Collections\n",
    "Next expand the date range to cover an entire year, so that there are many overlapping images. We will continue to use the .mosaic() reducer, which retains the last (most recent) pixels in areas of image overlap. Clouds are readily apparent."
   ]
  },
  {
   "cell_type": "code",
   "execution_count": 29,
   "metadata": {
    "collapsed": true
   },
   "outputs": [],
   "source": [
    "filtered = l8.filterDate('2013-01-01', '2014-01-01')"
   ]
  },
  {
   "cell_type": "markdown",
   "metadata": {},
   "source": [
    "### ImageCollection.mosaic Reducer¶"
   ]
  },
  {
   "cell_type": "code",
   "execution_count": 30,
   "metadata": {
    "collapsed": false
   },
   "outputs": [
    {
     "data": {
      "text/html": [
       "<img src=\"https://earthengine.googleapis.com/api/thumb?thumbid=6e30bde60465c7bf593b66695d3879b2&token=c7797a204aeef6b8dbad81da8806b682\"/>"
      ],
      "text/plain": [
       "<IPython.core.display.Image object>"
      ]
     },
     "execution_count": 30,
     "metadata": {},
     "output_type": "execute_result"
    }
   ],
   "source": [
    "l8_image = filtered.mosaic()\n",
    "Image(url=l8_image.getThumbUrl({\n",
    "    'region':region_california,\n",
    "    'bands':'B4,B3,B2',\n",
    "    'min':0,\n",
    "    'max':0.3\n",
    "}))"
   ]
  },
  {
   "cell_type": "markdown",
   "metadata": {},
   "source": [
    "### ImageCollection.median Reducer"
   ]
  },
  {
   "cell_type": "code",
   "execution_count": 31,
   "metadata": {
    "collapsed": false
   },
   "outputs": [
    {
     "data": {
      "text/html": [
       "<img src=\"https://earthengine.googleapis.com/api/thumb?thumbid=c66addaf971ed7c0c7b7a587d4269839&token=f2788512021e502a41ee7c8600bb85c0\"/>"
      ],
      "text/plain": [
       "<IPython.core.display.Image object>"
      ]
     },
     "execution_count": 31,
     "metadata": {},
     "output_type": "execute_result"
    }
   ],
   "source": [
    "l8_image = filtered.median()\n",
    "Image(url=l8_image.getThumbUrl({\n",
    "    'region':region_california,\n",
    "    'bands':'B4,B3,B2',\n",
    "    'min':0,\n",
    "    'max':0.3\n",
    "}))"
   ]
  },
  {
   "cell_type": "markdown",
   "metadata": {},
   "source": [
    "### ImageCollection.min Reducer"
   ]
  },
  {
   "cell_type": "code",
   "execution_count": 32,
   "metadata": {
    "collapsed": false
   },
   "outputs": [
    {
     "data": {
      "text/html": [
       "<img src=\"https://earthengine.googleapis.com/api/thumb?thumbid=818ba952b95f130e0efefb86610a4901&token=bedffe5b1b9a7d3d39ae4d532860bad0\"/>"
      ],
      "text/plain": [
       "<IPython.core.display.Image object>"
      ]
     },
     "execution_count": 32,
     "metadata": {},
     "output_type": "execute_result"
    }
   ],
   "source": [
    "l8_image = filtered.min()\n",
    "Image(url=l8_image.getThumbUrl({\n",
    "    'region':region_california,\n",
    "    'bands':'B4,B3,B2',\n",
    "    'min':0,\n",
    "    'max':0.3\n",
    "}))"
   ]
  },
  {
   "cell_type": "markdown",
   "metadata": {},
   "source": [
    "### ImageCollection.max Reducer"
   ]
  },
  {
   "cell_type": "code",
   "execution_count": 33,
   "metadata": {
    "collapsed": false
   },
   "outputs": [
    {
     "data": {
      "text/html": [
       "<img src=\"https://earthengine.googleapis.com/api/thumb?thumbid=1412690481c7bf0fc7991e1a1780cd98&token=03dcfe2d12c0eb2409b793f57d8aca50\"/>"
      ],
      "text/plain": [
       "<IPython.core.display.Image object>"
      ]
     },
     "execution_count": 33,
     "metadata": {},
     "output_type": "execute_result"
    }
   ],
   "source": [
    "l8_image = filtered.max()\n",
    "Image(url=l8_image.getThumbUrl({\n",
    "    'region':region_california,\n",
    "    'bands':'B4,B3,B2',\n",
    "    'min':0,\n",
    "    'max':0.3\n",
    "}))"
   ]
  },
  {
   "cell_type": "code",
   "execution_count": null,
   "metadata": {
    "collapsed": true
   },
   "outputs": [],
   "source": []
  }
 ],
 "metadata": {
  "kernelspec": {
   "display_name": "Python [Root]",
   "language": "python",
   "name": "Python [Root]"
  },
  "language_info": {
   "codemirror_mode": {
    "name": "ipython",
    "version": 2
   },
   "file_extension": ".py",
   "mimetype": "text/x-python",
   "name": "python",
   "nbconvert_exporter": "python",
   "pygments_lexer": "ipython2",
   "version": "2.7.12"
  }
 },
 "nbformat": 4,
 "nbformat_minor": 0
}
