{
 "cells": [
  {
   "cell_type": "markdown",
   "metadata": {},
   "source": [
    "# Export RS image"
   ]
  },
  {
   "cell_type": "code",
   "execution_count": 59,
   "metadata": {
    "collapsed": true
   },
   "outputs": [],
   "source": [
    "#https://anaconda.org/epihua/scatter_test-copy1/notebook\n",
    "from IPython.display import Image, display, HTML\n",
    "\n",
    "%matplotlib inline\n",
    "\n",
    "from pylab import *\n",
    "\n",
    "import ee\n",
    "ee.Initialize()"
   ]
  },
  {
   "cell_type": "markdown",
   "metadata": {},
   "source": [
    "### 0. test "
   ]
  },
  {
   "cell_type": "code",
   "execution_count": 71,
   "metadata": {
    "collapsed": false
   },
   "outputs": [
    {
     "name": "stdout",
     "output_type": "stream",
     "text": [
      "https://earthengine.googleapis.com/api/thumb?thumbid=10a9265e64b6572352f23c05de078f34&token=8c0e700dad8f3b1ac89ebdca6c9e4092\n"
     ]
    }
   ],
   "source": [
    "region = ee.Geometry.Rectangle([-122.5, 35.0, -122.4, 35.1]);\n",
    "raw = ee.Image('LANDSAT/LC8_L1T_TOA/LC80440342014077LGN00');\n",
    "print(raw.getThumbUrl())"
   ]
  },
  {
   "cell_type": "code",
   "execution_count": 72,
   "metadata": {
    "collapsed": false
   },
   "outputs": [
    {
     "data": {
      "text/html": [
       "<img src=\"https://earthengine.googleapis.com/api/thumb?thumbid=10a9265e64b6572352f23c05de078f34&token=ea886cef8cf80096fb140decdba3aff7\"/>"
      ],
      "text/plain": [
       "<IPython.core.display.Image object>"
      ]
     },
     "execution_count": 72,
     "metadata": {},
     "output_type": "execute_result"
    }
   ],
   "source": [
    "Image(url=raw.getThumbUrl())"
   ]
  },
  {
   "cell_type": "markdown",
   "metadata": {},
   "source": [
    "###  1.SRTM"
   ]
  },
  {
   "cell_type": "code",
   "execution_count": 106,
   "metadata": {
    "collapsed": false
   },
   "outputs": [
    {
     "name": "stdout",
     "output_type": "stream",
     "text": [
      "#028900,#ff0000,#ffc425\n"
     ]
    },
    {
     "data": {
      "text/html": [
       "<img src=\"https://earthengine.googleapis.com/api/thumb?thumbid=224cc3b955819a4048826992bfcbbf8f&token=62571f6debdeab0b38947312a73f74f7\"/>"
      ],
      "text/plain": [
       "<IPython.core.display.Image object>"
      ]
     },
     "execution_count": 106,
     "metadata": {},
     "output_type": "execute_result"
    }
   ],
   "source": [
    "srtm = ee.Image('USGS/SRTMGL1_003')\n",
    "DEM_Palette = ','.join(['#028900','#ff0000','#ffc425'])\n",
    "print(DEM_Palette)\n",
    "\n",
    "Image(url=srtm.getThumbUrl({\n",
    "                'min': 0,\n",
    "                'max': 7000,\n",
    "                'palette': DEM_Palette}))\n"
   ]
  },
  {
   "cell_type": "markdown",
   "metadata": {},
   "source": [
    "### 2. Landsat"
   ]
  },
  {
   "cell_type": "markdown",
   "metadata": {},
   "source": [
    "####     2.1 start from ImageCollection"
   ]
  },
  {
   "cell_type": "code",
   "execution_count": 184,
   "metadata": {
    "collapsed": false
   },
   "outputs": [
    {
     "ename": "TypeError",
     "evalue": "list indices must be integers, not str",
     "output_type": "error",
     "traceback": [
      "\u001b[0;31m---------------------------------------------------------------------------\u001b[0m",
      "\u001b[0;31mTypeError\u001b[0m                                 Traceback (most recent call last)",
      "\u001b[0;32m<ipython-input-184-aaa11076d86b>\u001b[0m in \u001b[0;36m<module>\u001b[0;34m()\u001b[0m\n\u001b[1;32m      4\u001b[0m \u001b[0;31m#fail to get information (Data, bandnames...)\u001b[0m\u001b[0;34m\u001b[0m\u001b[0;34m\u001b[0m\u001b[0m\n\u001b[1;32m      5\u001b[0m \u001b[0;31m#https://developers.google.com/earth-engine/image_info\u001b[0m\u001b[0;34m\u001b[0m\u001b[0;34m\u001b[0m\u001b[0m\n\u001b[0;32m----> 6\u001b[0;31m \u001b[0;32mprint\u001b[0m\u001b[0;34m(\u001b[0m\u001b[0mraw\u001b[0m\u001b[0;34m.\u001b[0m\u001b[0mtoList\u001b[0m\u001b[0;34m(\u001b[0m\u001b[0;36m10\u001b[0m\u001b[0;34m)\u001b[0m\u001b[0;34m.\u001b[0m\u001b[0mgetInfo\u001b[0m\u001b[0;34m(\u001b[0m\u001b[0;34m)\u001b[0m\u001b[0;34m[\u001b[0m\u001b[0;34m'features'\u001b[0m\u001b[0;34m]\u001b[0m\u001b[0;34m)\u001b[0m\u001b[0;34m\u001b[0m\u001b[0m\n\u001b[0m",
      "\u001b[0;31mTypeError\u001b[0m: list indices must be integers, not str"
     ]
    }
   ],
   "source": [
    "regionfilter = ee.Geometry.Rectangle([135.4, 34.9, 135.5, 35.0])\n",
    "raw = ee.ImageCollection('LANDSAT/LC8_SR')\n",
    "\n",
    "#fail to get information (Data, bandnames...)\n",
    "#https://developers.google.com/earth-engine/image_info\n",
    "print(raw.toList(10).getInfo()['features'])"
   ]
  },
  {
   "cell_type": "code",
   "execution_count": 167,
   "metadata": {
    "collapsed": false
   },
   "outputs": [],
   "source": [
    "#image = ee.Algorithms.Landsat.simpleComposite({\n",
    "#  collection:ee.ImageCollection('LANDSAT/LC8_L1T'),\n",
    "#  asFloat:true,\n",
    "#}).select('B1', 'B2', 'B3', 'B4', 'B5', 'B6', 'B7')"
   ]
  },
  {
   "cell_type": "code",
   "execution_count": 168,
   "metadata": {
    "collapsed": false
   },
   "outputs": [],
   "source": [
    "##filter Date and Region\n",
    "raw201601 = raw.filterDate('2016-01-01', '2016-02-02').filterBounds(regionfilter.toGeoJSON())\n",
    "\n",
    "##ImageCollection to image\n",
    "##pick up the first one\n",
    "raw_image = ee.Image(raw201601.first())\n",
    "\n",
    "##can I pick up selected information through python?\n",
    "#print(raw_image.bandNames())\n",
    "#print(ee.Date(raw_image.get('system:time_start')))\n",
    "#print(raw_image.getInfo())\n"
   ]
  },
  {
   "cell_type": "code",
   "execution_count": 195,
   "metadata": {
    "collapsed": false
   },
   "outputs": [
    {
     "name": "stdout",
     "output_type": "stream",
     "text": [
      "https://earthengine.googleapis.com/api/thumb?thumbid=3d6af91303acb11812361a021637ee7f&token=030352152bee08f9d58a14243fa20078\n"
     ]
    }
   ],
   "source": [
    "##calculate ndvi\n",
    "ndvi = (raw_image.select('B5').subtract(raw_image.select('B4'))).divide(raw_image.select('B5').add(raw_image.select('B4')));\n",
    "print(ndvi.getThumbUrl())"
   ]
  },
  {
   "cell_type": "code",
   "execution_count": 196,
   "metadata": {
    "collapsed": false
   },
   "outputs": [
    {
     "data": {
      "text/html": [
       "<img src=\"https://earthengine.googleapis.com/api/thumb?thumbid=fdaa6a290d7e2ae35cc511fc9c51cfbc&token=39891995f2d3b81b238e292bf8bd52af\"/>"
      ],
      "text/plain": [
       "<IPython.core.display.Image object>"
      ]
     },
     "execution_count": 196,
     "metadata": {},
     "output_type": "execute_result"
    }
   ],
   "source": [
    "#Image(url=ndvi.getThumbUrl({'region':region.toGeoJSON()}))\n",
    "ndvi_palette = 'FFFFFF, CE7E45, DF923D, F1B555, FCD163, 99B718, 74A901, 66A000, 529400, 3E8601, 207401, 056201, 004C00, 023B01, 012E01, 011D01, 011301'\n",
    "vizParams = {'min': -0.1, 'max': 1, 'palette': ndvi_palette}\n",
    "Image(url=ndvi.getThumbUrl(vizParams))\n"
   ]
  },
  {
   "cell_type": "markdown",
   "metadata": {},
   "source": [
    "define parameter as list\n",
    "\n",
    "https://developers.google.com/earth-engine/exporting\n",
    "\n",
    "maxPixels\n",
    "\n",
    "The maxPixels parameter is intended to prevent very large exports from inadvertently being created. Increase maxPixels if the default value is too low for your intended output image. If the output image file is large, it will be exported as multiple tiles. If the image is split into tiles, the filename of each tile will be in the form baseFilename-yMin-xMin where xMin and yMin are the coordinates of each tile within the overall bounding box of the exported image."
   ]
  },
  {
   "cell_type": "code",
   "execution_count": 197,
   "metadata": {
    "collapsed": true
   },
   "outputs": [],
   "source": [
    "raw_list = raw_image.reduceRegion(\n",
    "  reducer=ee.Reducer.toList(),\n",
    "  geometry=regionfilter,\n",
    "  maxPixels=5e9);"
   ]
  },
  {
   "cell_type": "markdown",
   "metadata": {},
   "source": [
    "pick up band values"
   ]
  },
  {
   "cell_type": "code",
   "execution_count": 198,
   "metadata": {
    "collapsed": false
   },
   "outputs": [
    {
     "name": "stdout",
     "output_type": "stream",
     "text": [
      "112515\n",
      "112515\n"
     ]
    }
   ],
   "source": [
    "raw4 = ee.Array(raw_list.get('B4'))\n",
    "band4 = array(raw4.getInfo())\n",
    "print(size(band4))\n",
    "\n",
    "raw5 = ee.Array(raw_list.get('B5'))\n",
    "band5 = array(raw5.getInfo())\n",
    "print(size(band5))\n"
   ]
  },
  {
   "cell_type": "code",
   "execution_count": 199,
   "metadata": {
    "collapsed": false
   },
   "outputs": [
    {
     "data": {
      "text/plain": [
       "<matplotlib.collections.PathCollection at 0x115072790>"
      ]
     },
     "execution_count": 199,
     "metadata": {},
     "output_type": "execute_result"
    },
    {
     "data": {
      "image/png": "[encoded data removed]",
      "text/plain": [
       "<matplotlib.figure.Figure at 0x10b1571d0>"
      ]
     },
     "metadata": {},
     "output_type": "display_data"
    }
   ],
   "source": [
    "fig1 = figure(figsize=(3,3), dpi=80)\n",
    "scatter(band4, band5, s=50, c='red', alpha=0.5)\n"
   ]
  },
  {
   "cell_type": "markdown",
   "metadata": {},
   "source": [
    "# Export tif to Drive as a test"
   ]
  },
  {
   "cell_type": "markdown",
   "metadata": {},
   "source": [
    "### original data"
   ]
  },
  {
   "cell_type": "markdown",
   "metadata": {},
   "source": [
    "#### Compare with original data downloaded from Earth Explorer"
   ]
  },
  {
   "cell_type": "code",
   "execution_count": 203,
   "metadata": {
    "collapsed": false
   },
   "outputs": [],
   "source": [
    "#.float() is needed\n",
    "## check again\n",
    "## 25 tif files were created...\n",
    "\n",
    "#raw_float = raw_image.float()\n",
    "raw_int = raw_image.int16()\n",
    "\n",
    "task = ee.batch.Export.image(raw_int, 'test_img', {\n",
    "        'maxPixels':5e9})\n",
    "task.start()\n"
   ]
  },
  {
   "cell_type": "code",
   "execution_count": 204,
   "metadata": {
    "collapsed": false
   },
   "outputs": [
    {
     "data": {
      "text/plain": [
       "{u'creation_timestamp_ms': 1479910994895,\n",
       " u'description': u'test_img',\n",
       " u'id': u'TKHR36VJGXQJOAALIMGKC4B7',\n",
       " u'progress': 0.0,\n",
       " u'start_timestamp_ms': 1479910997620,\n",
       " u'state': u'RUNNING',\n",
       " u'task_type': u'EXPORT_IMAGE',\n",
       " u'update_timestamp_ms': 1479910997792}"
      ]
     },
     "execution_count": 204,
     "metadata": {},
     "output_type": "execute_result"
    }
   ],
   "source": [
    "task.status()"
   ]
  },
  {
   "cell_type": "code",
   "execution_count": 205,
   "metadata": {
    "collapsed": false
   },
   "outputs": [
    {
     "name": "stdout",
     "output_type": "stream",
     "text": [
      "Running...\n",
      "Running...\n",
      "Running...\n",
      "Running...\n",
      "Done. {u'task_type': u'EXPORT_IMAGE', u'description': u'test_img', u'output_url': [u'https://drive.google.com/'], u'update_timestamp_ms': 1479911390840, u'creation_timestamp_ms': 1479910994895, u'state': u'COMPLETED', u'start_timestamp_ms': 1479910997620, u'id': u'TKHR36VJGXQJOAALIMGKC4B7'}\n"
     ]
    }
   ],
   "source": [
    "import time \n",
    "while task.status()['state'] == 'RUNNING':\n",
    "    print 'Running...'\n",
    "    time.sleep(100)\n",
    "print 'Done.', task.status()"
   ]
  },
  {
   "cell_type": "markdown",
   "metadata": {},
   "source": [
    "### NDVI data"
   ]
  },
  {
   "cell_type": "code",
   "execution_count": 200,
   "metadata": {
    "collapsed": true
   },
   "outputs": [],
   "source": [
    "ndvi_int = ndvi.multiply(10000).int16()\n",
    "task = ee.batch.Export.image(ndvi_int, 'ndvi_img', {\n",
    "        'maxPixels':5e9})\n",
    "task.start()"
   ]
  },
  {
   "cell_type": "code",
   "execution_count": 202,
   "metadata": {
    "collapsed": false
   },
   "outputs": [
    {
     "name": "stdout",
     "output_type": "stream",
     "text": [
      "Running...\n",
      "Done. {u'task_type': u'EXPORT_IMAGE', u'description': u'ndvi_img', u'output_url': [u'https://drive.google.com/'], u'update_timestamp_ms': 1479910655575, u'creation_timestamp_ms': 1479910606801, u'state': u'COMPLETED', u'start_timestamp_ms': 1479910610643, u'id': u'RR5K2ZJZTGBFY3VDXC7K46ZA'}\n"
     ]
    }
   ],
   "source": [
    "time.sleep(10)\n",
    "while task.status()['state'] == 'RUNNING':\n",
    "    print 'Running...'\n",
    "    time.sleep(100)\n",
    "print 'Done.', task.status()"
   ]
  },
  {
   "cell_type": "code",
   "execution_count": 179,
   "metadata": {
    "collapsed": false
   },
   "outputs": [
    {
     "data": {
      "text/plain": [
       "{u'creation_timestamp_ms': 1479908521256,\n",
       " u'description': u'ndvi_img',\n",
       " u'id': u'RNL56PDQEEVVYA6RG3DZNCDK',\n",
       " u'progress': 0.0,\n",
       " u'start_timestamp_ms': 1479908524270,\n",
       " u'state': u'RUNNING',\n",
       " u'task_type': u'EXPORT_IMAGE',\n",
       " u'update_timestamp_ms': 1479908524455}"
      ]
     },
     "execution_count": 179,
     "metadata": {},
     "output_type": "execute_result"
    }
   ],
   "source": [
    "##see also this code\n",
    "#https://13975973057543748996.googlegroups.com/attach/2a8c2ddcad1333ad/batch_clip_MODIS-saveAsImages.py?part=0.1&view=1&vt=ANaJVrHr1ij01pneYdSXzJ693-37mvKmyMznjf3vzaT6BTc6DJAScLapG94FU3OrpqxF0WGiBumViTiDdBvlOBfVfzlKNCnF8dL0IWGY9LcY_O3z6T4uoGc\n"
   ]
  },
  {
   "cell_type": "code",
   "execution_count": null,
   "metadata": {
    "collapsed": true
   },
   "outputs": [],
   "source": []
  }
 ],
 "metadata": {
  "kernelspec": {
   "display_name": "Python [Root]",
   "language": "python",
   "name": "Python [Root]"
  },
  "language_info": {
   "codemirror_mode": {
    "name": "ipython",
    "version": 2
   },
   "file_extension": ".py",
   "mimetype": "text/x-python",
   "name": "python",
   "nbconvert_exporter": "python",
   "pygments_lexer": "ipython2",
   "version": "2.7.12"
  }
 },
 "nbformat": 4,
 "nbformat_minor": 0
}
