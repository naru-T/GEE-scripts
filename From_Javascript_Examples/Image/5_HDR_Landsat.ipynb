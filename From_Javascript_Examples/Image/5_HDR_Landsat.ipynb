{
 "cells": [
  {
   "cell_type": "markdown",
   "metadata": {},
   "source": [
    "# HDR Landsat"
   ]
  },
  {
   "cell_type": "markdown",
   "metadata": {},
   "source": [
    "## Javascript"
   ]
  },
  {
   "cell_type": "markdown",
   "metadata": {},
   "source": [
    "// Display portions of an image with different dynamic ranges.\n",
    "// The land areas are displayed normally, but the water areas are streched to show more details.\n",
    "\n",
    "// Filter the L7 collection to a single date.\n",
    "\n",
    "var collection = ee.ImageCollection('LE7_L1T').filterDate('2002-11-08', '2002-11-09');\n",
    "\n",
    "var image = collection.mosaic().select('B3', 'B2', 'B1');\n",
    "\n",
    "// Display the image normally.\n",
    "\n",
    "Map.addLayer(image, {gain: '1.6, 1.4, 1.1'}, 'Land');\n",
    "\n",
    "// Add and stretch the water.  Once where the elevation is masked, and again where the elevation is zero.\n",
    "\n",
    "var elev = ee.Image('srtm90_v4');\n",
    "\n",
    "var mask1 = elev.mask().eq(0);\n",
    "\n",
    "var mask2 = elev.eq(0);\n",
    "\n",
    "Map.addLayer(image.updateMask(mask1), {gain: '6.0', bias: -200}, 'Water: Masked');\n",
    "\n",
    "Map.addLayer(image.updateMask(mask2), {gain: '6.0', bias: -200}, 'Water: Elev 0');\n",
    "\n",
    "Map.setCenter(-95.738, 18.453, 9);\n"
   ]
  },
  {
   "cell_type": "markdown",
   "metadata": {},
   "source": [
    "## Python"
   ]
  },
  {
   "cell_type": "code",
   "execution_count": 2,
   "metadata": {
    "collapsed": true
   },
   "outputs": [],
   "source": [
    "%matplotlib inline\n",
    "from IPython.display import Image, display, HTML\n",
    "import ee\n",
    "ee.Initialize()"
   ]
  },
  {
   "cell_type": "markdown",
   "metadata": {},
   "source": [
    "Filter the L7 collection to a single date."
   ]
  },
  {
   "cell_type": "code",
   "execution_count": 3,
   "metadata": {
    "collapsed": true
   },
   "outputs": [],
   "source": [
    "collection = ee.ImageCollection('LE7_L1T').filterDate('2002-11-08', '2002-11-09')\n",
    "image = collection.mosaic().select('B3', 'B2', 'B1')"
   ]
  },
  {
   "cell_type": "markdown",
   "metadata": {},
   "source": [
    "Display the image normally."
   ]
  },
  {
   "cell_type": "code",
   "execution_count": 4,
   "metadata": {
    "collapsed": true
   },
   "outputs": [],
   "source": [
    "point = ee.Geometry.Point(-95.738, 18.453)\n",
    "roi_area = point.buffer(50000).bounds().getInfo()['coordinates']"
   ]
  },
  {
   "cell_type": "code",
   "execution_count": 7,
   "metadata": {
    "collapsed": false
   },
   "outputs": [
    {
     "name": "stdout",
     "output_type": "stream",
     "text": [
      "https://earthengine.googleapis.com//api/thumb?thumbid=eff3cf26e306ab230350669f4a6593f4&token=0f07cd868ceb69f3fa3558b81e81795b\n"
     ]
    },
    {
     "data": {
      "text/html": [
       "<img src=\"https://earthengine.googleapis.com//api/thumb?thumbid=eff3cf26e306ab230350669f4a6593f4&token=0f07cd868ceb69f3fa3558b81e81795b\"/>"
      ],
      "text/plain": [
       "<IPython.core.display.Image object>"
      ]
     },
     "execution_count": 7,
     "metadata": {},
     "output_type": "execute_result"
    }
   ],
   "source": [
    "url = image.getThumbUrl({\n",
    "                'gain': '1.6, 1.4, 1.1',\n",
    "                'region':roi_area,\n",
    "                'scale': 9\n",
    "    })    \n",
    "    \n",
    "print(url)\n",
    "Image(url=url)"
   ]
  },
  {
   "cell_type": "markdown",
   "metadata": {},
   "source": [
    "Add and stretch the water.  Once where the elevation is masked, and again where the elevation is zero."
   ]
  },
  {
   "cell_type": "code",
   "execution_count": 8,
   "metadata": {
    "collapsed": true
   },
   "outputs": [],
   "source": [
    "elev = ee.Image('srtm90_v4')\n",
    "mask1 = elev.mask().eq(0)\n",
    "mask2 = elev.eq(0)"
   ]
  },
  {
   "cell_type": "code",
   "execution_count": 9,
   "metadata": {
    "collapsed": false
   },
   "outputs": [
    {
     "name": "stdout",
     "output_type": "stream",
     "text": [
      "https://earthengine.googleapis.com//api/thumb?thumbid=35f72351080918070ffaf758cb9ae30b&token=6440ce1456dbf319cf2ff388fefca195\n"
     ]
    },
    {
     "data": {
      "text/html": [
       "<img src=\"https://earthengine.googleapis.com//api/thumb?thumbid=35f72351080918070ffaf758cb9ae30b&token=6440ce1456dbf319cf2ff388fefca195\"/>"
      ],
      "text/plain": [
       "<IPython.core.display.Image object>"
      ]
     },
     "execution_count": 9,
     "metadata": {},
     "output_type": "execute_result"
    }
   ],
   "source": [
    "url = image.updateMask(mask1).getThumbUrl({\n",
    "                'gain': '6.0',\n",
    "                'bias': -200,\n",
    "                'region':roi_area,\n",
    "                'scale': 9\n",
    "    })    \n",
    "    \n",
    "print(url)\n",
    "Image(url=url)"
   ]
  },
  {
   "cell_type": "code",
   "execution_count": 10,
   "metadata": {
    "collapsed": false
   },
   "outputs": [
    {
     "name": "stdout",
     "output_type": "stream",
     "text": [
      "https://earthengine.googleapis.com//api/thumb?thumbid=5743344cce03723e0e6e612f99713d85&token=1df405035ef8c932a7a3c37d8c53bfef\n"
     ]
    },
    {
     "data": {
      "text/html": [
       "<img src=\"https://earthengine.googleapis.com//api/thumb?thumbid=5743344cce03723e0e6e612f99713d85&token=1df405035ef8c932a7a3c37d8c53bfef\"/>"
      ],
      "text/plain": [
       "<IPython.core.display.Image object>"
      ]
     },
     "execution_count": 10,
     "metadata": {},
     "output_type": "execute_result"
    }
   ],
   "source": [
    "url = image.updateMask(mask2).getThumbUrl({\n",
    "                'gain': '6.0',\n",
    "                'bias': -200,\n",
    "                'region':roi_area,\n",
    "                'scale': 9\n",
    "    })    \n",
    "    \n",
    "print(url)\n",
    "Image(url=url)"
   ]
  },
  {
   "cell_type": "markdown",
   "metadata": {},
   "source": [
    "# How can I overlay images above???"
   ]
  },
  {
   "cell_type": "code",
   "execution_count": null,
   "metadata": {
    "collapsed": true
   },
   "outputs": [],
   "source": []
  }
 ],
 "metadata": {
  "kernelspec": {
   "display_name": "Python 2",
   "language": "python",
   "name": "python2"
  },
  "language_info": {
   "codemirror_mode": {
    "name": "ipython",
    "version": 2
   },
   "file_extension": ".py",
   "mimetype": "text/x-python",
   "name": "python",
   "nbconvert_exporter": "python",
   "pygments_lexer": "ipython2",
   "version": "2.7.10"
  }
 },
 "nbformat": 4,
 "nbformat_minor": 0
}
