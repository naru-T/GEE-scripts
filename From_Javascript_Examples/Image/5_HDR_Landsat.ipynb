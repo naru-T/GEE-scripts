{
 "cells": [
  {
   "cell_type": "markdown",
   "metadata": {},
   "source": [
    "# HDR Landsat"
   ]
  },
  {
   "cell_type": "markdown",
   "metadata": {},
   "source": [
    "## Javascript"
   ]
  },
  {
   "cell_type": "markdown",
   "metadata": {},
   "source": [
    "// Display portions of an image with different dynamic ranges.\n",
    "// The land areas are displayed normally, but the water areas are streched to show more details.\n",
    "\n",
    "// Filter the L7 collection to a single date.\n",
    "\n",
    "var collection = ee.ImageCollection('LE7_L1T').filterDate('2002-11-08', '2002-11-09');\n",
    "\n",
    "var image = collection.mosaic().select('B3', 'B2', 'B1');\n",
    "\n",
    "// Display the image normally.\n",
    "\n",
    "Map.addLayer(image, {gain: '1.6, 1.4, 1.1'}, 'Land');\n",
    "\n",
    "// Add and stretch the water.  Once where the elevation is masked, and again where the elevation is zero.\n",
    "\n",
    "var elev = ee.Image('srtm90_v4');\n",
    "\n",
    "var mask1 = elev.mask().eq(0);\n",
    "\n",
    "var mask2 = elev.eq(0);\n",
    "\n",
    "Map.addLayer(image.updateMask(mask1), {gain: '6.0', bias: -200}, 'Water: Masked');\n",
    "\n",
    "Map.addLayer(image.updateMask(mask2), {gain: '6.0', bias: -200}, 'Water: Elev 0');\n",
    "\n",
    "Map.setCenter(-95.738, 18.453, 9);\n"
   ]
  },
  {
   "cell_type": "markdown",
   "metadata": {},
   "source": [
    "## Python"
   ]
  },
  {
   "cell_type": "code",
   "execution_count": 1,
   "metadata": {
    "collapsed": true
   },
   "outputs": [],
   "source": [
    "%matplotlib inline\n",
    "from IPython.display import Image, display, HTML\n",
    "import ee\n",
    "ee.Initialize()"
   ]
  },
  {
   "cell_type": "markdown",
   "metadata": {},
   "source": [
    "Filter the L7 collection to a single date."
   ]
  },
  {
   "cell_type": "code",
   "execution_count": 2,
   "metadata": {
    "collapsed": true
   },
   "outputs": [],
   "source": [
    "collection = ee.ImageCollection('LE7_L1T').filterDate('2002-11-08', '2002-11-09')\n",
    "image = collection.mosaic().select('B3', 'B2', 'B1')"
   ]
  },
  {
   "cell_type": "markdown",
   "metadata": {},
   "source": [
    "Display the image normally."
   ]
  },
  {
   "cell_type": "code",
   "execution_count": 3,
   "metadata": {
    "collapsed": true
   },
   "outputs": [],
   "source": [
    "point = ee.Geometry.Point(-95.738, 18.453)\n",
    "roi_area = point.buffer(50000).bounds().getInfo()['coordinates']"
   ]
  },
  {
   "cell_type": "code",
   "execution_count": 4,
   "metadata": {
    "collapsed": false
   },
   "outputs": [
    {
     "name": "stdout",
     "output_type": "stream",
     "text": [
      "https://earthengine.googleapis.com/api/thumb?thumbid=55cf65fbabd97e051f2b1bc304e7158e&token=eacc2827fa554cd6cd29f8260ae3acf6\n"
     ]
    },
    {
     "data": {
      "text/html": [
       "<img src=\"https://earthengine.googleapis.com/api/thumb?thumbid=55cf65fbabd97e051f2b1bc304e7158e&token=eacc2827fa554cd6cd29f8260ae3acf6\"/>"
      ],
      "text/plain": [
       "<IPython.core.display.Image object>"
      ]
     },
     "execution_count": 4,
     "metadata": {},
     "output_type": "execute_result"
    }
   ],
   "source": [
    "url = image.getThumbUrl({\n",
    "                'gain': '1.6, 1.4, 1.1',\n",
    "                'region':roi_area,\n",
    "                'scale': 9\n",
    "    })    \n",
    "    \n",
    "print(url)\n",
    "Image(url=url)"
   ]
  },
  {
   "cell_type": "markdown",
   "metadata": {},
   "source": [
    "Add and stretch the water.  Once where the elevation is masked, and again where the elevation is zero."
   ]
  },
  {
   "cell_type": "code",
   "execution_count": 5,
   "metadata": {
    "collapsed": true
   },
   "outputs": [],
   "source": [
    "elev = ee.Image('srtm90_v4')\n",
    "mask1 = elev.mask().eq(0)\n",
    "mask2 = elev.eq(0)"
   ]
  },
  {
   "cell_type": "code",
   "execution_count": 6,
   "metadata": {
    "collapsed": false
   },
   "outputs": [
    {
     "name": "stdout",
     "output_type": "stream",
     "text": [
      "https://earthengine.googleapis.com/api/thumb?thumbid=942632be82e607f1c4d1ccecb7e309a6&token=87b6c40df1e628f518ca4524fa18de4f\n"
     ]
    },
    {
     "data": {
      "text/html": [
       "<img src=\"https://earthengine.googleapis.com/api/thumb?thumbid=942632be82e607f1c4d1ccecb7e309a6&token=87b6c40df1e628f518ca4524fa18de4f\"/>"
      ],
      "text/plain": [
       "<IPython.core.display.Image object>"
      ]
     },
     "execution_count": 6,
     "metadata": {},
     "output_type": "execute_result"
    }
   ],
   "source": [
    "url = image.updateMask(mask1).getThumbUrl({\n",
    "                'gain': '6.0',\n",
    "                'bias': -200,\n",
    "                'region':roi_area,\n",
    "                'scale': 9\n",
    "    })    \n",
    "    \n",
    "print(url)\n",
    "Image(url=url)"
   ]
  },
  {
   "cell_type": "code",
   "execution_count": 7,
   "metadata": {
    "collapsed": false
   },
   "outputs": [
    {
     "name": "stdout",
     "output_type": "stream",
     "text": [
      "https://earthengine.googleapis.com/api/thumb?thumbid=7771d2781972432f475def789b37d558&token=97dd63c40ca842950ee6f0a3a0c116d9\n"
     ]
    },
    {
     "data": {
      "text/html": [
       "<img src=\"https://earthengine.googleapis.com/api/thumb?thumbid=7771d2781972432f475def789b37d558&token=97dd63c40ca842950ee6f0a3a0c116d9\"/>"
      ],
      "text/plain": [
       "<IPython.core.display.Image object>"
      ]
     },
     "execution_count": 7,
     "metadata": {},
     "output_type": "execute_result"
    }
   ],
   "source": [
    "url = image.updateMask(mask2).getThumbUrl({\n",
    "                'gain': '6.0',\n",
    "                'bias': -200,\n",
    "                'region':roi_area,\n",
    "                'scale': 9\n",
    "    })    \n",
    "    \n",
    "print(url)\n",
    "Image(url=url)"
   ]
  },
  {
   "cell_type": "markdown",
   "metadata": {},
   "source": [
    "# How can I overlay images above???"
   ]
  },
  {
   "cell_type": "code",
   "execution_count": null,
   "metadata": {
    "collapsed": true
   },
   "outputs": [],
   "source": []
  }
 ],
 "metadata": {
  "kernelspec": {
   "display_name": "Python [Root]",
   "language": "python",
   "name": "Python [Root]"
  },
  "language_info": {
   "codemirror_mode": {
    "name": "ipython",
    "version": 2
   },
   "file_extension": ".py",
   "mimetype": "text/x-python",
   "name": "python",
   "nbconvert_exporter": "python",
   "pygments_lexer": "ipython2",
   "version": "2.7.12"
  }
 },
 "nbformat": 4,
 "nbformat_minor": 0
}
