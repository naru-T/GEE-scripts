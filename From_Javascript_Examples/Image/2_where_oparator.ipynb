{
 "cells": [
  {
   "cell_type": "markdown",
   "metadata": {},
   "source": [
    "  # Where Operator"
   ]
  },
  {
   "cell_type": "markdown",
   "metadata": {},
   "source": [
    "## Javascript"
   ]
  },
  {
   "cell_type": "markdown",
   "metadata": {},
   "source": [
    "Select the forest classes from the MODIS land cover image and intersect them with elevations above 1000m.\n",
    "\n",
    "var elev = ee.Image('srtm90_v4');\n",
    "\n",
    "var cover = ee.Image('MCD12Q1/MCD12Q1_005_2001_01_01')\n",
    "    .select('Land_Cover_Type_1');\n",
    "\n",
    "var blank = ee.Image(0);\n",
    "\n",
    "// Where (1 <= cover <= 4) and (elev > 1000), set the output to 1.\n",
    "\n",
    "var output = blank.where(\n",
    "    cover.lte(4).and(cover.gte(1)).and(elev.gt(1000)),\n",
    "    1);\n",
    "\n",
    "// Output contains 0s and 1s.  Mask it with itself to get rid of the 0s.\n",
    "\n",
    "var result = output.updateMask(output);\n",
    "\n",
    "Map.addLayer(result, {palette: '00AA00'});\n",
    "\n",
    "Map.setCenter(-113.41842, 40.055489, 6);\n"
   ]
  },
  {
   "cell_type": "markdown",
   "metadata": {},
   "source": [
    "## Python"
   ]
  },
  {
   "cell_type": "code",
   "execution_count": 1,
   "metadata": {
    "collapsed": true
   },
   "outputs": [],
   "source": [
    "%matplotlib inline\n",
    "from IPython.display import Image, display, HTML\n",
    "from pylab import *\n",
    "\n",
    "import ee\n",
    "ee.Initialize()"
   ]
  },
  {
   "cell_type": "code",
   "execution_count": 4,
   "metadata": {
    "collapsed": true
   },
   "outputs": [],
   "source": [
    "elev = ee.Image('srtm90_v4')\n",
    "cover = ee.Image('MCD12Q1/MCD12Q1_005_2001_01_01') .select('Land_Cover_Type_1')\n",
    "blank = ee.Image(0)"
   ]
  },
  {
   "cell_type": "code",
   "execution_count": 30,
   "metadata": {
    "collapsed": false
   },
   "outputs": [],
   "source": [
    "# Where (1 <= cover <= 4) and (elev > 1000), set the output to 1.\n",
    "output = blank.where( cover.lte(4).And(cover.gte(1)).And(elev.gt(1000)), 1)"
   ]
  },
  {
   "cell_type": "code",
   "execution_count": 7,
   "metadata": {
    "collapsed": true
   },
   "outputs": [],
   "source": [
    "# Output contains 0s and 1s. Mask it with itself to get rid of the 0s.\n",
    "result = output.updateMask(output)"
   ]
  },
  {
   "cell_type": "code",
   "execution_count": 27,
   "metadata": {
    "collapsed": false
   },
   "outputs": [],
   "source": [
    "#Map.addLayer(result, {palette: '00AA00'});\n",
    "#Map.setCenter(-113.41842, 40.055489, 6);\n",
    "\n",
    "point = ee.Geometry.Point(-113.41842, 40.055489)\n",
    "roi_area = point.buffer(10000).bounds().getInfo()['coordinates']\n",
    "\n",
    "## when add to color, use visualize function\n",
    "result_viz = result.visualize(palette= '00AA00',forceRgbOutput=True)"
   ]
  },
  {
   "cell_type": "code",
   "execution_count": 29,
   "metadata": {
    "collapsed": false
   },
   "outputs": [
    {
     "name": "stdout",
     "output_type": "stream",
     "text": [
      "https://earthengine.googleapis.com//api/thumb?thumbid=48767363fd6f46ac1c9146eb366240d0&token=a78a41bbe8770ca8ce2584e5d4a5f88d\n"
     ]
    },
    {
     "data": {
      "text/html": [
       "<img src=\"https://earthengine.googleapis.com//api/thumb?thumbid=48767363fd6f46ac1c9146eb366240d0&token=a78a41bbe8770ca8ce2584e5d4a5f88d\"/>"
      ],
      "text/plain": [
       "<IPython.core.display.Image object>"
      ]
     },
     "execution_count": 29,
     "metadata": {},
     "output_type": "execute_result"
    }
   ],
   "source": [
    "## show only blanc image...\n",
    "url = result_viz.getThumbUrl({\n",
    "                'min': 0,\n",
    "                'max': 1,\n",
    "                'region':roi_area,\n",
    "                'scale': 6\n",
    "    })    \n",
    "    \n",
    "print(url)\n",
    "Image(url=url)"
   ]
  },
  {
   "cell_type": "code",
   "execution_count": null,
   "metadata": {
    "collapsed": true
   },
   "outputs": [],
   "source": []
  }
 ],
 "metadata": {
  "kernelspec": {
   "display_name": "Python 2",
   "language": "python",
   "name": "python2"
  },
  "language_info": {
   "codemirror_mode": {
    "name": "ipython",
    "version": 2
   },
   "file_extension": ".py",
   "mimetype": "text/x-python",
   "name": "python",
   "nbconvert_exporter": "python",
   "pygments_lexer": "ipython2",
   "version": "2.7.10"
  }
 },
 "nbformat": 4,
 "nbformat_minor": 0
}
