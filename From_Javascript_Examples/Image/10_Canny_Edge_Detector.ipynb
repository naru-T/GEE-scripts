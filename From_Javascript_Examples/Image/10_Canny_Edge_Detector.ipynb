{
 "cells": [
  {
   "cell_type": "markdown",
   "metadata": {},
   "source": [
    "# Canny Edge Detector"
   ]
  },
  {
   "cell_type": "markdown",
   "metadata": {},
   "source": [
    "## Javascript"
   ]
  },
  {
   "cell_type": "markdown",
   "metadata": {},
   "source": [
    "// Canny Edge Detector example.\n",
    "\n",
    "var image = ee.Image('LT5_L1T_8DAY_EVI/20110618');\n",
    "\n",
    "var canny = ee.Algorithms.CannyEdgeDetector(image, 0.7);\n",
    "\n",
    "// Mask the image with itself to get rid of 0 pixels.\n",
    "\n",
    "canny = canny.updateMask(canny);\n",
    "\n",
    "\n",
    "Map.setCenter(-101.05259, 37.93418, 13);\n",
    "\n",
    "Map.addLayer(image, {min: 0, max: 1}, 'Landsat EVI');\n",
    "\n",
    "Map.addLayer(canny, {min: 0, max: 1, palette: 'FF0000'}, 'Canny Edges');\n"
   ]
  },
  {
   "cell_type": "markdown",
   "metadata": {},
   "source": [
    "## Python"
   ]
  },
  {
   "cell_type": "code",
   "execution_count": 1,
   "metadata": {
    "collapsed": true
   },
   "outputs": [],
   "source": [
    "%matplotlib inline\n",
    "from IPython.display import Image, display, HTML\n",
    "import ee\n",
    "ee.Initialize()"
   ]
  },
  {
   "cell_type": "code",
   "execution_count": 2,
   "metadata": {
    "collapsed": false
   },
   "outputs": [],
   "source": [
    "image = ee.Image('LT5_L1T_8DAY_EVI/20110618')\n",
    "canny = ee.Algorithms.CannyEdgeDetector(image, 0.7)"
   ]
  },
  {
   "cell_type": "markdown",
   "metadata": {},
   "source": [
    "Mask the image with itself to get rid of 0 pixels."
   ]
  },
  {
   "cell_type": "code",
   "execution_count": 3,
   "metadata": {
    "collapsed": true
   },
   "outputs": [],
   "source": [
    "canny = canny.updateMask(canny)"
   ]
  },
  {
   "cell_type": "code",
   "execution_count": 4,
   "metadata": {
    "collapsed": true
   },
   "outputs": [],
   "source": [
    "point = ee.Geometry.Point(-101.05259, 37.93418)\n",
    "roi_area = point.buffer(5000).bounds().getInfo()['coordinates']"
   ]
  },
  {
   "cell_type": "code",
   "execution_count": 5,
   "metadata": {
    "collapsed": false
   },
   "outputs": [
    {
     "name": "stdout",
     "output_type": "stream",
     "text": [
      "https://earthengine.googleapis.com/api/thumb?thumbid=25360760eb0cc7c74a470cdb05b87050&token=0f83dcc9e425a68990cf71b4f1789ffa\n"
     ]
    },
    {
     "data": {
      "text/html": [
       "<img src=\"https://earthengine.googleapis.com/api/thumb?thumbid=25360760eb0cc7c74a470cdb05b87050&token=0f83dcc9e425a68990cf71b4f1789ffa\"/>"
      ],
      "text/plain": [
       "<IPython.core.display.Image object>"
      ]
     },
     "execution_count": 5,
     "metadata": {},
     "output_type": "execute_result"
    }
   ],
   "source": [
    "url = image.getThumbUrl({\n",
    "                'min': 0,\n",
    "                'max':1,\n",
    "                'region': roi_area,\n",
    "                'scale': 13\n",
    "    })    \n",
    "    \n",
    "print(url)\n",
    "Image(url=url)"
   ]
  },
  {
   "cell_type": "code",
   "execution_count": 6,
   "metadata": {
    "collapsed": false
   },
   "outputs": [
    {
     "name": "stdout",
     "output_type": "stream",
     "text": [
      "https://earthengine.googleapis.com/api/thumb?thumbid=9c7aec39cd377bfee03c292b8206ab0d&token=44b6c8592199b76b911031b2271ad9b9\n"
     ]
    },
    {
     "data": {
      "text/html": [
       "<img src=\"https://earthengine.googleapis.com/api/thumb?thumbid=9c7aec39cd377bfee03c292b8206ab0d&token=44b6c8592199b76b911031b2271ad9b9\"/>"
      ],
      "text/plain": [
       "<IPython.core.display.Image object>"
      ]
     },
     "execution_count": 6,
     "metadata": {},
     "output_type": "execute_result"
    }
   ],
   "source": [
    "url = canny.getThumbUrl({\n",
    "                'min': 0,\n",
    "                'max':1,\n",
    "                'palette': 'FF0000',\n",
    "                'region': roi_area,\n",
    "                'scale': 13\n",
    "    })    \n",
    "    \n",
    "print(url)\n",
    "Image(url=url)"
   ]
  },
  {
   "cell_type": "code",
   "execution_count": null,
   "metadata": {
    "collapsed": true
   },
   "outputs": [],
   "source": []
  }
 ],
 "metadata": {
  "kernelspec": {
   "display_name": "Python [Root]",
   "language": "python",
   "name": "Python [Root]"
  },
  "language_info": {
   "codemirror_mode": {
    "name": "ipython",
    "version": 2
   },
   "file_extension": ".py",
   "mimetype": "text/x-python",
   "name": "python",
   "nbconvert_exporter": "python",
   "pygments_lexer": "ipython2",
   "version": "2.7.12"
  }
 },
 "nbformat": 4,
 "nbformat_minor": 0
}
