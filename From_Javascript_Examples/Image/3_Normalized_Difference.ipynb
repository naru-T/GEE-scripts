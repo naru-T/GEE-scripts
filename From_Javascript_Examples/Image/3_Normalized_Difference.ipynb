{
 "cells": [
  {
   "cell_type": "markdown",
   "metadata": {},
   "source": [
    "# Normalized Difference"
   ]
  },
  {
   "cell_type": "markdown",
   "metadata": {},
   "source": [
    "## Javascript"
   ]
  },
  {
   "cell_type": "markdown",
   "metadata": {},
   "source": [
    "// Compute Normalized Difference Vegetation Index over MOD09GA product.\n",
    "\n",
    "// NDVI = (NIR - RED) / (NIR + RED), where\n",
    "\n",
    "// RED is sur_refl_b01, 620-670nm\n",
    "\n",
    "// NIR is sur_refl_b02, 841-876nm\n",
    "\n",
    "var img = ee.Image('MOD09GA/MOD09GA_005_2012_03_09');\n",
    "\n",
    "var ndvi = img.normalizedDifference(['sur_refl_b02', 'sur_refl_b01']);\n",
    "\n",
    "var palette = ['FFFFFF', 'CE7E45', 'DF923D', 'F1B555', 'FCD163', '99B718',\n",
    "               '74A901', '66A000', '529400', '3E8601', '207401', '056201',\n",
    "               '004C00', '023B01', '012E01', '011D01', '011301'];\n",
    "\n",
    "Map.setCenter(-94.84497, 39.01918, 8);\n",
    "\n",
    "Map.addLayer(img.select(['sur_refl_b01', 'sur_refl_b04', 'sur_refl_b03']),\n",
    "         {gain: '0.1, 0.1, 0.1'}, 'MODIS bands 1/4/3');\n",
    "\n",
    "Map.addLayer(ndvi, {min: 0, max: 1, palette: palette}, 'NDVI');"
   ]
  },
  {
   "cell_type": "markdown",
   "metadata": {},
   "source": [
    "## Python"
   ]
  },
  {
   "cell_type": "code",
   "execution_count": 36,
   "metadata": {
    "collapsed": true
   },
   "outputs": [],
   "source": [
    "%matplotlib inline\n",
    "from IPython.display import Image, display, HTML\n",
    "import ee\n",
    "ee.Initialize()"
   ]
  },
  {
   "cell_type": "code",
   "execution_count": 37,
   "metadata": {
    "collapsed": true
   },
   "outputs": [],
   "source": [
    "img = ee.Image('MOD09GA/MOD09GA_005_2012_03_09')\n",
    "ndvi = img.normalizedDifference(['sur_refl_b02', 'sur_refl_b01'])"
   ]
  },
  {
   "cell_type": "code",
   "execution_count": 38,
   "metadata": {
    "collapsed": true
   },
   "outputs": [],
   "source": [
    "palette = ['FFFFFF', 'CE7E45', 'DF923D', 'F1B555', 'FCD163', '99B718', '74A901', \n",
    "           '66A000', '529400', '3E8601', '207401', '056201', '004C00', '023B01', '012E01', '011D01', '011301']"
   ]
  },
  {
   "cell_type": "code",
   "execution_count": 39,
   "metadata": {
    "collapsed": false
   },
   "outputs": [],
   "source": [
    "point = ee.Geometry.Point(-94.84497, 39.01918)\n",
    "roi_area = point.buffer(50000).bounds().getInfo()['coordinates']"
   ]
  },
  {
   "cell_type": "code",
   "execution_count": 40,
   "metadata": {
    "collapsed": false
   },
   "outputs": [
    {
     "name": "stdout",
     "output_type": "stream",
     "text": [
      "https://earthengine.googleapis.com//api/thumb?thumbid=294a6dea327dc34ccc29a17e02f5e431&token=865355e454bcd4123454b9395f08ca23\n"
     ]
    },
    {
     "data": {
      "text/html": [
       "<img src=\"https://earthengine.googleapis.com//api/thumb?thumbid=294a6dea327dc34ccc29a17e02f5e431&token=865355e454bcd4123454b9395f08ca23\"/>"
      ],
      "text/plain": [
       "<IPython.core.display.Image object>"
      ]
     },
     "execution_count": 40,
     "metadata": {},
     "output_type": "execute_result"
    }
   ],
   "source": [
    "image143 = img.select(['sur_refl_b01', 'sur_refl_b04', 'sur_refl_b03'])\n",
    "url = image143.getThumbUrl({\n",
    "                'gain': '0.1, 0.1, 0.1',\n",
    "                'region':roi_area,\n",
    "                'scale': 8\n",
    "    })    \n",
    "    \n",
    "print(url)\n",
    "Image(url=url)"
   ]
  },
  {
   "cell_type": "code",
   "execution_count": 41,
   "metadata": {
    "collapsed": false
   },
   "outputs": [
    {
     "name": "stdout",
     "output_type": "stream",
     "text": [
      "https://earthengine.googleapis.com//api/thumb?thumbid=9e5132665966aa616abe9b991dd7db68&token=acf1434669185e7077c312d41647db01\n"
     ]
    },
    {
     "data": {
      "text/html": [
       "<img src=\"https://earthengine.googleapis.com//api/thumb?thumbid=9e5132665966aa616abe9b991dd7db68&token=acf1434669185e7077c312d41647db01\"/>"
      ],
      "text/plain": [
       "<IPython.core.display.Image object>"
      ]
     },
     "execution_count": 41,
     "metadata": {},
     "output_type": "execute_result"
    }
   ],
   "source": [
    "##fail to add color...\n",
    "url = ndvi.getThumbUrl({\n",
    "                'min': 0,\n",
    "                'max': 1, \n",
    "               # 'palette':palette,\n",
    "                'region':roi_area,\n",
    "                'scale': 8\n",
    "    })    \n",
    "    \n",
    "print(url)\n",
    "Image(url=url)"
   ]
  },
  {
   "cell_type": "code",
   "execution_count": 46,
   "metadata": {
    "collapsed": true
   },
   "outputs": [],
   "source": [
    "## when add to color, use visualize function\n",
    "ndvi_viz = ndvi.visualize(palette=palette)"
   ]
  },
  {
   "cell_type": "code",
   "execution_count": 47,
   "metadata": {
    "collapsed": false
   },
   "outputs": [
    {
     "name": "stdout",
     "output_type": "stream",
     "text": [
      "https://earthengine.googleapis.com//api/thumb?thumbid=a83c6e3d3bfe6f72aaf84b25bab8a695&token=f274ecdf5851ef50fe434100b1c5e408\n"
     ]
    },
    {
     "data": {
      "text/html": [
       "<img src=\"https://earthengine.googleapis.com//api/thumb?thumbid=a83c6e3d3bfe6f72aaf84b25bab8a695&token=f274ecdf5851ef50fe434100b1c5e408\"/>"
      ],
      "text/plain": [
       "<IPython.core.display.Image object>"
      ]
     },
     "execution_count": 47,
     "metadata": {},
     "output_type": "execute_result"
    }
   ],
   "source": [
    "url = ndvi_viz.getThumbUrl({\n",
    "                'min': 0,\n",
    "                'max': 1, \n",
    "                'region':roi_area,\n",
    "                'scale': 8\n",
    "    })    \n",
    "    \n",
    "print(url)\n",
    "Image(url=url)"
   ]
  },
  {
   "cell_type": "code",
   "execution_count": null,
   "metadata": {
    "collapsed": true
   },
   "outputs": [],
   "source": []
  }
 ],
 "metadata": {
  "kernelspec": {
   "display_name": "Python 2",
   "language": "python",
   "name": "python2"
  },
  "language_info": {
   "codemirror_mode": {
    "name": "ipython",
    "version": 2
   },
   "file_extension": ".py",
   "mimetype": "text/x-python",
   "name": "python",
   "nbconvert_exporter": "python",
   "pygments_lexer": "ipython2",
   "version": "2.7.10"
  }
 },
 "nbformat": 4,
 "nbformat_minor": 0
}
