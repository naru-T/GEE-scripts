{
 "cells": [
  {
   "cell_type": "markdown",
   "metadata": {},
   "source": [
    "# 6. Hillshade"
   ]
  },
  {
   "cell_type": "markdown",
   "metadata": {},
   "source": [
    "## Javascript"
   ]
  },
  {
   "cell_type": "markdown",
   "metadata": {},
   "source": [
    "// Hillshade example.\n",
    "\n",
    "function radians(img) {\n",
    "  return img.toFloat().multiply(Math.PI).divide(180);\n",
    "}\n",
    "\n",
    "// Compute hillshade for the given illumination az, el.\n",
    "\n",
    "function hillshade(az, ze, slope, aspect) {\n",
    "\n",
    "  var azimuth = radians(ee.Image(az));\n",
    "  \n",
    "  var zenith = radians(ee.Image(ze));\n",
    "  \n",
    "  // Hillshade = cos(Azimuth - Aspect) * sin(Slope) * sin(Zenith) +\n",
    "  \n",
    "  //     cos(Zenith) * cos(Slope)\n",
    "  \n",
    "  return azimuth.subtract(aspect).cos()\n",
    "  \n",
    "    .multiply(slope.sin())\n",
    "    \n",
    "    .multiply(zenith.sin())\n",
    "    \n",
    "    .add(\n",
    "      zenith.cos().multiply(slope.cos()));\n",
    "}\n",
    "\n",
    "var terrain = ee.Algorithms.Terrain(ee.Image('srtm90_v4'));\n",
    "\n",
    "var slope = radians(terrain.select('slope'));\n",
    "\n",
    "var aspect = radians(terrain.select('aspect'));\n",
    "\n",
    "for (var i = 0; i < 360; i += 60) {\n",
    "  Map.addLayer(hillshade(i, 60, slope, aspect), {}, i + ' deg');\n",
    "}\n",
    "Map.setCenter(-121.767, 46.852, 11);\n",
    "\n"
   ]
  },
  {
   "cell_type": "markdown",
   "metadata": {},
   "source": [
    "## Python"
   ]
  },
  {
   "cell_type": "code",
   "execution_count": 1,
   "metadata": {
    "collapsed": true
   },
   "outputs": [],
   "source": [
    "%matplotlib inline\n",
    "from IPython.display import Image, display, HTML\n",
    "import ee\n",
    "ee.Initialize()\n",
    "import math"
   ]
  },
  {
   "cell_type": "code",
   "execution_count": 2,
   "metadata": {
    "collapsed": false
   },
   "outputs": [],
   "source": [
    "def radians(img):\n",
    "    return img.toFloat().multiply(math.pi).divide(180)"
   ]
  },
  {
   "cell_type": "markdown",
   "metadata": {},
   "source": [
    "Compute hillshade for the given illumination az, el."
   ]
  },
  {
   "cell_type": "code",
   "execution_count": 3,
   "metadata": {
    "collapsed": false
   },
   "outputs": [],
   "source": [
    "def hillshade(az, ze, slope, aspect):\n",
    "    azimuth = radians(ee.Image(az))\n",
    "    zenith = radians(ee.Image(ze)) \n",
    "    ## Hillshade = cos(Azimuth - Aspect) * sin(Slope) * sin(Zenith) + cos(Zenith) * cos(Slope)\n",
    "    return azimuth.subtract(aspect).cos().multiply(slope.sin()).multiply(zenith.sin()).add(\n",
    "      zenith.cos().multiply(slope.cos()))"
   ]
  },
  {
   "cell_type": "code",
   "execution_count": 4,
   "metadata": {
    "collapsed": false
   },
   "outputs": [],
   "source": [
    "terrain = ee.Algorithms.Terrain(ee.Image('srtm90_v4'))\n",
    "slope = radians(terrain.select('slope'))\n",
    "aspect = radians(terrain.select('aspect'))"
   ]
  },
  {
   "cell_type": "code",
   "execution_count": 5,
   "metadata": {
    "collapsed": true
   },
   "outputs": [],
   "source": [
    "point = ee.Geometry.Point(-121.767, 46.852)\n",
    "roi_area = point.buffer(50000).bounds().getInfo()['coordinates']"
   ]
  },
  {
   "cell_type": "markdown",
   "metadata": {},
   "source": [
    "test"
   ]
  },
  {
   "cell_type": "code",
   "execution_count": 6,
   "metadata": {
    "collapsed": false
   },
   "outputs": [
    {
     "name": "stdout",
     "output_type": "stream",
     "text": [
      "https://earthengine.googleapis.com/api/thumb?thumbid=26dada6021f851adac983fae4ecf0c7c&token=7fcd3113e86f6175fc4d894b77bbde70\n"
     ]
    },
    {
     "data": {
      "text/html": [
       "<img src=\"https://earthengine.googleapis.com/api/thumb?thumbid=26dada6021f851adac983fae4ecf0c7c&token=7fcd3113e86f6175fc4d894b77bbde70\"/>"
      ],
      "text/plain": [
       "<IPython.core.display.Image object>"
      ]
     },
     "execution_count": 6,
     "metadata": {},
     "output_type": "execute_result"
    }
   ],
   "source": [
    "url = hillshade(0, 60, slope, aspect).getThumbUrl({\n",
    "                'region':roi_area,\n",
    "                'scale': 11\n",
    "    })    \n",
    "    \n",
    "print(url)\n",
    "Image(url=url)"
   ]
  },
  {
   "cell_type": "markdown",
   "metadata": {},
   "source": [
    "for loop"
   ]
  },
  {
   "cell_type": "code",
   "execution_count": 7,
   "metadata": {
    "collapsed": false
   },
   "outputs": [
    {
     "name": "stdout",
     "output_type": "stream",
     "text": [
      "https://earthengine.googleapis.com/api/thumb?thumbid=26dada6021f851adac983fae4ecf0c7c&token=25c7a6afdc4c010fcd180a3bc05b028a\n",
      "https://earthengine.googleapis.com/api/thumb?thumbid=c8c97a945f68ceeb70293b0bc545c4c6&token=5c2addaddd98404460adf895a957626f\n",
      "https://earthengine.googleapis.com/api/thumb?thumbid=441b583ff466ac90c18de6ff91ecc9d8&token=8d1bee182314c2d1323977815e362c19\n",
      "https://earthengine.googleapis.com/api/thumb?thumbid=15b84822af4d9d4de65b0e859d9bc7a0&token=7e4203e8ffda15ff86928611a80c939f\n",
      "https://earthengine.googleapis.com/api/thumb?thumbid=5c33d5c6fdefb75e976561fde0318cd0&token=96cb6dbffb851cd57da987803d56399d\n",
      "https://earthengine.googleapis.com/api/thumb?thumbid=679d9059186044347d4a796b538e12ab&token=6ca0bbddeb8c63d51df6699fb0f836e2\n"
     ]
    }
   ],
   "source": [
    "for  i in range(0,360,60):\n",
    "    url = hillshade(i, 60, slope, aspect).getThumbUrl({\n",
    "                'region':roi_area,\n",
    "                'scale': 11\n",
    "    })    \n",
    "    print(url)\n",
    "    Image(url=url)\n",
    "    "
   ]
  },
  {
   "cell_type": "code",
   "execution_count": null,
   "metadata": {
    "collapsed": true
   },
   "outputs": [],
   "source": []
  }
 ],
 "metadata": {
  "kernelspec": {
   "display_name": "Python [Root]",
   "language": "python",
   "name": "Python [Root]"
  },
  "language_info": {
   "codemirror_mode": {
    "name": "ipython",
    "version": 2
   },
   "file_extension": ".py",
   "mimetype": "text/x-python",
   "name": "python",
   "nbconvert_exporter": "python",
   "pygments_lexer": "ipython2",
   "version": "2.7.12"
  }
 },
 "nbformat": 4,
 "nbformat_minor": 0
}
