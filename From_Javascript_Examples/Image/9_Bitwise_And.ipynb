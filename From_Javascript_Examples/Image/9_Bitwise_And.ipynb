{
 "cells": [
  {
   "cell_type": "markdown",
   "metadata": {},
   "source": [
    "# Bitwise And"
   ]
  },
  {
   "cell_type": "markdown",
   "metadata": {},
   "source": [
    "## Javascript"
   ]
  },
  {
   "cell_type": "markdown",
   "metadata": {},
   "source": [
    "Extracts quality bits from MOD09GQ QC band, and masks pixels where the quality value is not \"ideal\".\n",
    "\n",
    "Lowest two bits contain quality value:\n",
    "\n",
    "00: \"produced at ideal quality all bands\"\n",
    "\n",
    "01: \"produced at less than ideal quality some or all bands\"\n",
    "\n",
    "10: \"not produced due to cloud effects all bands\"\n",
    "\n",
    "11: \"not produced due to other reasons\"\n",
    "\n",
    "var modis = ee.Image('MOD09GQ/MOD09GQ_005_2012_02_08');\n",
    "\n",
    "var qual = modis.select('QC_250m').bitwiseAnd(0x03).neq(0);\n",
    "\n",
    "\n",
    "Map.setCenter(-90.79994, 44.21912, 11);\n",
    "\n",
    "Map.addLayer(ee.Image([1, 0, 0]).updateMask(qual), {min: 0, max: 1},\n",
    "\n",
    "         'quality_not_ideal');\n",
    "         \n",
    "Map.addLayer(modis.select('sur_refl_b01').updateMask(qual.not()),\n",
    "\n",
    "         {min: 100, max: 16000}, 'refl_b01');\n",
    "         "
   ]
  },
  {
   "cell_type": "markdown",
   "metadata": {},
   "source": [
    "## Python"
   ]
  },
  {
   "cell_type": "code",
   "execution_count": 2,
   "metadata": {
    "collapsed": true
   },
   "outputs": [],
   "source": [
    "%matplotlib inline\n",
    "from IPython.display import Image, display, HTML\n",
    "import ee\n",
    "ee.Initialize()"
   ]
  },
  {
   "cell_type": "code",
   "execution_count": 3,
   "metadata": {
    "collapsed": false
   },
   "outputs": [],
   "source": [
    "modis = ee.Image('MOD09GQ/MOD09GQ_005_2012_02_08')\n",
    "qual = modis.select('QC_250m').bitwiseAnd(0x03).neq(0)"
   ]
  },
  {
   "cell_type": "code",
   "execution_count": 4,
   "metadata": {
    "collapsed": true
   },
   "outputs": [],
   "source": [
    "point = ee.Geometry.Point(-90.79994, 44.21912)\n",
    "roi_area = point.buffer(50000).bounds().getInfo()['coordinates']"
   ]
  },
  {
   "cell_type": "code",
   "execution_count": 7,
   "metadata": {
    "collapsed": false
   },
   "outputs": [
    {
     "name": "stdout",
     "output_type": "stream",
     "text": [
      "https://earthengine.googleapis.com//api/thumb?thumbid=ccff67f1f03f55951dccfb66412cb94e&token=d270e27c13bf816d13187af70a3e496a\n"
     ]
    },
    {
     "data": {
      "text/html": [
       "<img src=\"https://earthengine.googleapis.com//api/thumb?thumbid=ccff67f1f03f55951dccfb66412cb94e&token=d270e27c13bf816d13187af70a3e496a\"/>"
      ],
      "text/plain": [
       "<IPython.core.display.Image object>"
      ]
     },
     "execution_count": 7,
     "metadata": {},
     "output_type": "execute_result"
    }
   ],
   "source": [
    "MASK = ee.Image([1, 0, 0]).updateMask(qual)\n",
    "url = MASK.getThumbUrl({\n",
    "                'min': 0,\n",
    "                'max':1,\n",
    "                'region': roi_area,\n",
    "                'scale': 11\n",
    "    })    \n",
    "    \n",
    "print(url)\n",
    "Image(url=url)"
   ]
  },
  {
   "cell_type": "code",
   "execution_count": 10,
   "metadata": {
    "collapsed": false
   },
   "outputs": [
    {
     "name": "stdout",
     "output_type": "stream",
     "text": [
      "https://earthengine.googleapis.com//api/thumb?thumbid=6e3c9e9b9308914e7ac85e1bc236b173&token=bcc2f1330244d6255087f1a69ddbb2a5\n"
     ]
    },
    {
     "data": {
      "text/html": [
       "<img src=\"https://earthengine.googleapis.com//api/thumb?thumbid=6e3c9e9b9308914e7ac85e1bc236b173&token=bcc2f1330244d6255087f1a69ddbb2a5\"/>"
      ],
      "text/plain": [
       "<IPython.core.display.Image object>"
      ]
     },
     "execution_count": 10,
     "metadata": {},
     "output_type": "execute_result"
    }
   ],
   "source": [
    "refl_b01 = modis.select('sur_refl_b01').updateMask(qual.Not())\n",
    "url = refl_b01.getThumbUrl({\n",
    "                'min': 100,\n",
    "                'max':16000,\n",
    "                'region': roi_area,\n",
    "                'scale': 11\n",
    "    })    \n",
    "    \n",
    "print(url)\n",
    "Image(url=url)"
   ]
  },
  {
   "cell_type": "code",
   "execution_count": null,
   "metadata": {
    "collapsed": true
   },
   "outputs": [],
   "source": []
  }
 ],
 "metadata": {
  "kernelspec": {
   "display_name": "Python 2",
   "language": "python",
   "name": "python2"
  },
  "language_info": {
   "codemirror_mode": {
    "name": "ipython",
    "version": 2
   },
   "file_extension": ".py",
   "mimetype": "text/x-python",
   "name": "python",
   "nbconvert_exporter": "python",
   "pygments_lexer": "ipython2",
   "version": "2.7.10"
  }
 },
 "nbformat": 4,
 "nbformat_minor": 0
}
