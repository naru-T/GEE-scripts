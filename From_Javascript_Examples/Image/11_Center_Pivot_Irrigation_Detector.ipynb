{
 "cells": [
  {
   "cell_type": "markdown",
   "metadata": {},
   "source": [
    "# Center Pivot Irrigation Detector"
   ]
  },
  {
   "cell_type": "markdown",
   "metadata": {},
   "source": [
    "## Javascript"
   ]
  },
  {
   "cell_type": "markdown",
   "metadata": {},
   "source": [
    "// Finds circles that are 500m in radius.\n",
    "\n",
    "Map.setCenter(-106.06, 37.71, 12);\n",
    "\n",
    "// A nice EVI palette.\n",
    "\n",
    "var palette = [\n",
    "    \n",
    "  'FFFFFF', 'CE7E45', 'DF923D', 'F1B555', 'FCD163', '99B718',\n",
    "    \n",
    "  '74A901', '66A000', '529400', '3E8601', '207401', '056201',\n",
    "    \n",
    "  '004C00', '023B01', '012E01', '011D01', '011301'];\n",
    "\n",
    "\n",
    "// Just display the image with the palette.\n",
    "\n",
    "var image = ee.Image('LT5_L1T_8DAY_EVI/20110618');\n",
    "\n",
    "Map.addLayer(image, {min: 0, max: 1, palette: palette}, 'Landsat EVI');\n",
    "\n",
    "\n",
    "// Find the difference between convolution with circles and squares.\n",
    "\n",
    "// This difference, in theory, will be strongest at the center of\n",
    "\n",
    "// circles in the image. This region is filled with circular farms\n",
    "\n",
    "// with radii on the order of 500m.\n",
    "\n",
    "var farmSize = 500;  // Radius of a farm, in meters.\n",
    "\n",
    "var circleKernel = ee.Kernel.circle(farmSize, 'meters');\n",
    "\n",
    "var squareKernel = ee.Kernel.square(farmSize, 'meters');\n",
    "\n",
    "var circles = image.convolve(circleKernel);\n",
    "\n",
    "var squares = image.convolve(squareKernel);\n",
    "\n",
    "var diff = circles.subtract(squares);\n",
    "\n",
    "\n",
    "\n",
    "// Scale by 100 and find the best fitting pixel in each neighborhood.\n",
    "\n",
    "var diff = diff.abs().multiply(100).toByte();\n",
    "\n",
    "var max = diff.focal_max({radius: farmSize * 1.8, units: 'meters'});\n",
    "\n",
    "// If a pixel isn't the local max, set it to 0.\n",
    "\n",
    "var local = diff.where(diff.neq(max), 0);\n",
    "\n",
    "var thresh = local.gt(2);\n",
    "\n",
    "\n",
    "\n",
    "// Here, we highlight the maximum differences as \"Kernel Peaks\"\n",
    "\n",
    "// and draw them in red.\n",
    "\n",
    "var peaks = thresh.focal_max({kernel: circleKernel});\n",
    "\n",
    "Map.addLayer(peaks.updateMask(peaks), {palette: 'FF3737'}, 'Kernel Peaks');\n",
    "\n",
    "\n",
    "\n",
    "// Detect the edges of the features.  Discard the edges with lower intensity.\n",
    "\n",
    "var canny = ee.Algorithms.CannyEdgeDetector(image, 0);\n",
    "\n",
    "canny = canny.gt(0.3);\n",
    "\n",
    "\n",
    "\n",
    "// Create a \"ring\" kernel from two circular kernels.\n",
    "\n",
    "var inner = ee.Kernel.circle(farmSize - 20, 'meters', false, -1);\n",
    "\n",
    "var outer = ee.Kernel.circle(farmSize + 20, 'meters', false, 1);\n",
    "\n",
    "var ring = outer.add(inner, true);\n",
    "\n",
    "\n",
    "\n",
    "// Highlight the places where the feature edges best match the circle kernel.\n",
    "\n",
    "var centers = canny.convolve(ring).gt(0.5).focal_max({kernel: circleKernel});\n",
    "\n",
    "Map.addLayer(centers.updateMask(centers), {palette: '4285FF'}, 'Ring centers');\n"
   ]
  },
  {
   "cell_type": "code",
   "execution_count": 1,
   "metadata": {
    "collapsed": true
   },
   "outputs": [],
   "source": [
    "%matplotlib inline\n",
    "from IPython.display import Image, display, HTML\n",
    "import ee\n",
    "ee.Initialize()"
   ]
  },
  {
   "cell_type": "code",
   "execution_count": 7,
   "metadata": {
    "collapsed": true
   },
   "outputs": [],
   "source": [
    "point = ee.Geometry.Point(-106.06, 37.71)\n",
    "roi_area = point.buffer(5000).bounds().getInfo()['coordinates']"
   ]
  },
  {
   "cell_type": "markdown",
   "metadata": {},
   "source": [
    "A nice EVI palette."
   ]
  },
  {
   "cell_type": "code",
   "execution_count": 3,
   "metadata": {
    "collapsed": true
   },
   "outputs": [],
   "source": [
    "palette = [\n",
    "'FFFFFF', 'CE7E45', 'DF923D', 'F1B555', 'FCD163', '99B718',\n",
    "'74A901', '66A000', '529400', '3E8601', '207401', '056201',\n",
    "'004C00', '023B01', '012E01', '011D01', '011301']"
   ]
  },
  {
   "cell_type": "code",
   "execution_count": 4,
   "metadata": {
    "collapsed": true
   },
   "outputs": [],
   "source": [
    "image = ee.Image('LT5_L1T_8DAY_EVI/20110618')"
   ]
  },
  {
   "cell_type": "code",
   "execution_count": 8,
   "metadata": {
    "collapsed": false
   },
   "outputs": [
    {
     "name": "stdout",
     "output_type": "stream",
     "text": [
      "https://earthengine.googleapis.com//api/thumb?thumbid=bfb3765baf920105fc2053c5a118057c&token=3d4e25ffb653bb1a330f3926ddf20fa4\n"
     ]
    },
    {
     "data": {
      "text/html": [
       "<img src=\"https://earthengine.googleapis.com//api/thumb?thumbid=bfb3765baf920105fc2053c5a118057c&token=3d4e25ffb653bb1a330f3926ddf20fa4\"/>"
      ],
      "text/plain": [
       "<IPython.core.display.Image object>"
      ]
     },
     "execution_count": 8,
     "metadata": {},
     "output_type": "execute_result"
    }
   ],
   "source": [
    "url = image.visualize(min=0, max=1, palette=palette).getThumbUrl({\n",
    "                'region': roi_area,\n",
    "                'scale': 12\n",
    "    })    \n",
    "    \n",
    "print(url)\n",
    "Image(url=url)"
   ]
  },
  {
   "cell_type": "markdown",
   "metadata": {},
   "source": [
    "Find the difference between convolution with circles and squares. This difference, in theory, will be strongest at the center of circles in the image. This region is filled with circular farms with radii on the order of 500m."
   ]
  },
  {
   "cell_type": "code",
   "execution_count": 9,
   "metadata": {
    "collapsed": true
   },
   "outputs": [],
   "source": [
    "farmSize = 500 # Radius of a farm, in meters.\n",
    "circleKernel = ee.Kernel.circle(farmSize, 'meters')\n",
    "squareKernel = ee.Kernel.square(farmSize, 'meters')\n",
    "circles = image.convolve(circleKernel)\n",
    "squares = image.convolve(squareKernel)\n",
    "diff = circles.subtract(squares)"
   ]
  },
  {
   "cell_type": "code",
   "execution_count": null,
   "metadata": {
    "collapsed": true
   },
   "outputs": [],
   "source": []
  }
 ],
 "metadata": {
  "kernelspec": {
   "display_name": "Python 2",
   "language": "python",
   "name": "python2"
  },
  "language_info": {
   "codemirror_mode": {
    "name": "ipython",
    "version": 2
   },
   "file_extension": ".py",
   "mimetype": "text/x-python",
   "name": "python",
   "nbconvert_exporter": "python",
   "pygments_lexer": "ipython2",
   "version": "2.7.10"
  }
 },
 "nbformat": 4,
 "nbformat_minor": 0
}
