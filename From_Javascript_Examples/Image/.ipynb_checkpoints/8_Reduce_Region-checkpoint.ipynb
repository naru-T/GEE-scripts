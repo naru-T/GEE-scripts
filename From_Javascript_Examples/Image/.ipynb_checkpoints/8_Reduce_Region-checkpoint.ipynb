{
 "cells": [
  {
   "cell_type": "markdown",
   "metadata": {},
   "source": [
    "# Reduce Region"
   ]
  },
  {
   "cell_type": "markdown",
   "metadata": {},
   "source": [
    "## Javascript"
   ]
  },
  {
   "cell_type": "markdown",
   "metadata": {},
   "source": [
    "Computes a simple reduction over a region of an image.  A reduction is any process that takes an arbitrary number of inputs (such as all the pixels of an image in a given region) and computes one or more fixed outputs.  The result is a dictionary that contains the computed values, which in this example is the maximum pixel value in the region.\n",
    "\n",
    "This example shows how to print the resulting dictionary to the console, which is useful when developing and debugging your scripts, but in a larger workflow you might instead use the Dicitionary.get() function to extract the values you need from the dictionary for use as inputs to other functions.\n",
    "\n",
    "The input image to reduce, in this case an SRTM elevation map.\n",
    "\n",
    "var image = ee.Image('srtm90_v4');\n",
    "\n",
    "The region to reduce within.\n",
    "\n",
    "var poly = ee.Geometry.Rectangle(-109.05, 41, -102.05, 37);\n",
    "\n",
    "Reduce the image within the given region, using a reducer that computes the max pixel value.  We also specify the spatial resolution at which to perform the computation, in this case 200meters.\n",
    "\n",
    "var max = image.reduceRegion(ee.Reducer.max(), poly, 200);\n",
    "\n",
    "Print the result to the console.\n",
    "    \n",
    "print(max);\n"
   ]
  },
  {
   "cell_type": "markdown",
   "metadata": {},
   "source": [
    "## Python"
   ]
  },
  {
   "cell_type": "code",
   "execution_count": 2,
   "metadata": {
    "collapsed": true
   },
   "outputs": [],
   "source": [
    "%matplotlib inline\n",
    "from IPython.display import Image, display, HTML\n",
    "import ee\n",
    "ee.Initialize()"
   ]
  },
  {
   "cell_type": "code",
   "execution_count": 3,
   "metadata": {
    "collapsed": false
   },
   "outputs": [],
   "source": [
    "image = ee.Image('srtm90_v4')"
   ]
  },
  {
   "cell_type": "markdown",
   "metadata": {},
   "source": [
    "The region to reduce within."
   ]
  },
  {
   "cell_type": "code",
   "execution_count": 4,
   "metadata": {
    "collapsed": true
   },
   "outputs": [],
   "source": [
    "poly = ee.Geometry.Rectangle(-109.05, 41, -102.05, 37)"
   ]
  },
  {
   "cell_type": "markdown",
   "metadata": {},
   "source": [
    "Reduce the image within the given region, using a reducer that computes the max pixel value. We also specify the spatial resolution at which to perform the computation, in this case 200meters."
   ]
  },
  {
   "cell_type": "code",
   "execution_count": 10,
   "metadata": {
    "collapsed": false
   },
   "outputs": [],
   "source": [
    "max = image.reduceRegion(ee.Reducer.max(), poly, 200)"
   ]
  },
  {
   "cell_type": "markdown",
   "metadata": {},
   "source": [
    "NOTE: print(max) doesn't work in Python. use getInfo() instead"
   ]
  },
  {
   "cell_type": "code",
   "execution_count": 22,
   "metadata": {
    "collapsed": false
   },
   "outputs": [
    {
     "name": "stdout",
     "output_type": "stream",
     "text": [
      "{u'elevation': 4371}\n"
     ]
    }
   ],
   "source": [
    "print(max.getInfo())"
   ]
  },
  {
   "cell_type": "code",
   "execution_count": null,
   "metadata": {
    "collapsed": true
   },
   "outputs": [],
   "source": []
  }
 ],
 "metadata": {
  "kernelspec": {
   "display_name": "Python 2",
   "language": "python",
   "name": "python2"
  },
  "language_info": {
   "codemirror_mode": {
    "name": "ipython",
    "version": 2
   },
   "file_extension": ".py",
   "mimetype": "text/x-python",
   "name": "python",
   "nbconvert_exporter": "python",
   "pygments_lexer": "ipython2",
   "version": "2.7.10"
  }
 },
 "nbformat": 4,
 "nbformat_minor": 0
}
