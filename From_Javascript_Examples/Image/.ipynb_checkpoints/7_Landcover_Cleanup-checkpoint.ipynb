{
 "cells": [
  {
   "cell_type": "markdown",
   "metadata": {},
   "source": [
    "# 7. Landcover Cleanup"
   ]
  },
  {
   "cell_type": "markdown",
   "metadata": {},
   "source": [
    "## Javascript"
   ]
  },
  {
   "cell_type": "markdown",
   "metadata": {},
   "source": [
    "\n",
    "// Display the MODIS land cover classification image with appropriate colors.\n",
    "\n",
    "// Force projection of 500 meters/pixel, which is the native MODIS resolution.\n",
    "\n",
    "var SCALE = 500;\n",
    "\n",
    "var image1 = ee.Image('MCD12Q1/MCD12Q1_005_2001_01_01');\n",
    "\n",
    "var image2 = image1.select(['Land_Cover_Type_1']);\n",
    "\n",
    "var image3 = image2.reproject('EPSG:4326', null, SCALE);\n",
    "\n",
    "var image4 = image3.focal_mode();\n",
    "\n",
    "var image5 = image4.focal_max(3).focal_min(5).focal_max(3);\n",
    "\n",
    "var image6 = image5.reproject('EPSG:4326', null, SCALE);\n",
    "\n",
    "var PALETTE = [\n",
    "    'aec3d4', // water\n",
    "    '152106', '225129', '369b47', '30eb5b', '387242', // forest\n",
    "    '6a2325', 'c3aa69', 'b76031', 'd9903d', '91af40', // shrub, grass, savannah\n",
    "    '111149', // wetlands\n",
    "    'cdb33b', // croplands\n",
    "    'cc0013', // urban\n",
    "    '33280d', // crop mosaic\n",
    "    'd7cdcc', // snow and ice\n",
    "    'f7e084', // barren\n",
    "    '6f6f6f'  // tundra\n",
    "].join(',');\n",
    "\n",
    "var vis_params = {min: 0, max: 17, palette: PALETTE};\n",
    "\n",
    "Map.setCenter(-113.41842, 40.055489, 6);\n",
    "\n",
    "Map.addLayer(image2, vis_params, 'IGBP classification');\n",
    "\n",
    "Map.addLayer(image3, vis_params, 'Reprojected');\n",
    "\n",
    "Map.addLayer(image4, vis_params, 'Mode');\n",
    "\n",
    "Map.addLayer(image5, vis_params, 'Smooth');\n",
    "\n",
    "Map.addLayer(image6, vis_params, 'Smooth');\n"
   ]
  },
  {
   "cell_type": "markdown",
   "metadata": {},
   "source": [
    "## Python"
   ]
  },
  {
   "cell_type": "code",
   "execution_count": 1,
   "metadata": {
    "collapsed": true
   },
   "outputs": [],
   "source": [
    "%matplotlib inline\n",
    "from IPython.display import Image, display, HTML\n",
    "import ee\n",
    "ee.Initialize()"
   ]
  },
  {
   "cell_type": "markdown",
   "metadata": {},
   "source": [
    "Display the MODIS land cover classification image with appropriate colors.\n",
    "Force projection of 500 meters/pixel, which is the native MODIS resolution."
   ]
  },
  {
   "cell_type": "markdown",
   "metadata": {},
   "source": [
    "NOTE: in python, null should be replaced by None"
   ]
  },
  {
   "cell_type": "code",
   "execution_count": 2,
   "metadata": {
    "collapsed": false
   },
   "outputs": [],
   "source": [
    "SCALE = 500\n",
    "image1 = ee.Image('MCD12Q1/MCD12Q1_005_2001_01_01')\n",
    "image2 = image1.select(['Land_Cover_Type_1'])\n",
    "image3 = image2.reproject('EPSG:4326', None, SCALE)\n",
    "image4 = image3.focal_mode()\n",
    "image5 = image4.focal_max(3).focal_min(5).focal_max(3)\n",
    "image6 = image5.reproject('EPSG:4326', None, SCALE)"
   ]
  },
  {
   "cell_type": "code",
   "execution_count": 3,
   "metadata": {
    "collapsed": false
   },
   "outputs": [],
   "source": [
    "PALETTE= [\n",
    "    'aec3d4', # water\n",
    "    '152106', '225129', '369b47', '30eb5b', '387242', # forest\n",
    "    '6a2325', 'c3aa69', 'b76031', 'd9903d', '91af40', # shrub, grass, savannah\n",
    "    '111149', # wetlands\n",
    "    'cdb33b', # croplands\n",
    "    'cc0013', # urban\n",
    "    '33280d', # crop mosaic\n",
    "    'd7cdcc', # snow and ice\n",
    "    'f7e084', # barren\n",
    "    '6f6f6f'  # tundra\n",
    "]\n",
    "#.join(',')\n",
    "#vis_params = {'min': 0, \n",
    "#              'max': 17, \n",
    "#              'palette': PALETTE,\n",
    "#              'region':roi_area,\n",
    "#              'scale': 6}"
   ]
  },
  {
   "cell_type": "code",
   "execution_count": 4,
   "metadata": {
    "collapsed": true
   },
   "outputs": [],
   "source": [
    "point = ee.Geometry.Point(-113.41842, 40.055489)\n",
    "roi_area = point.buffer(500000).bounds().getInfo()['coordinates']"
   ]
  },
  {
   "cell_type": "markdown",
   "metadata": {},
   "source": [
    "NOTE: color parameters should be input in visualize function"
   ]
  },
  {
   "cell_type": "code",
   "execution_count": 5,
   "metadata": {
    "collapsed": false
   },
   "outputs": [
    {
     "name": "stdout",
     "output_type": "stream",
     "text": [
      "https://earthengine.googleapis.com/api/thumb?thumbid=5cab7ca207e4344d5be234ba8357f752&token=4f179506ca3d06cfd3083640ba68e61e\n"
     ]
    },
    {
     "data": {
      "text/html": [
       "<img src=\"https://earthengine.googleapis.com/api/thumb?thumbid=5cab7ca207e4344d5be234ba8357f752&token=4f179506ca3d06cfd3083640ba68e61e\"/>"
      ],
      "text/plain": [
       "<IPython.core.display.Image object>"
      ]
     },
     "execution_count": 5,
     "metadata": {},
     "output_type": "execute_result"
    }
   ],
   "source": [
    "url = image2.visualize(min=0, max=17, palette=PALETTE).getThumbUrl({\n",
    "                'region':roi_area,\n",
    "                'scale': 6\n",
    "    })    \n",
    "    \n",
    "print(url)\n",
    "Image(url=url)"
   ]
  },
  {
   "cell_type": "code",
   "execution_count": 6,
   "metadata": {
    "collapsed": false
   },
   "outputs": [
    {
     "name": "stdout",
     "output_type": "stream",
     "text": [
      "https://earthengine.googleapis.com/api/thumb?thumbid=d0cce18881fc90e9642ad73567b5f2ea&token=5b84db76770408e90b3fb0ac6c82d5fe\n"
     ]
    },
    {
     "data": {
      "text/html": [
       "<img src=\"https://earthengine.googleapis.com/api/thumb?thumbid=d0cce18881fc90e9642ad73567b5f2ea&token=5b84db76770408e90b3fb0ac6c82d5fe\"/>"
      ],
      "text/plain": [
       "<IPython.core.display.Image object>"
      ]
     },
     "execution_count": 6,
     "metadata": {},
     "output_type": "execute_result"
    }
   ],
   "source": [
    "url = image3.visualize(min=0, max=17, palette=PALETTE).getThumbUrl({\n",
    "                'region':roi_area,\n",
    "                'scale': 6\n",
    "    })    \n",
    "    \n",
    "print(url)\n",
    "Image(url=url)"
   ]
  },
  {
   "cell_type": "code",
   "execution_count": 7,
   "metadata": {
    "collapsed": false
   },
   "outputs": [
    {
     "name": "stdout",
     "output_type": "stream",
     "text": [
      "https://earthengine.googleapis.com/api/thumb?thumbid=47664a8a99a52d3be488f37e16b74484&token=facf18ac7b6da8e0924ed50034a107f0\n"
     ]
    },
    {
     "data": {
      "text/html": [
       "<img src=\"https://earthengine.googleapis.com/api/thumb?thumbid=47664a8a99a52d3be488f37e16b74484&token=facf18ac7b6da8e0924ed50034a107f0\"/>"
      ],
      "text/plain": [
       "<IPython.core.display.Image object>"
      ]
     },
     "execution_count": 7,
     "metadata": {},
     "output_type": "execute_result"
    }
   ],
   "source": [
    "url = image4.visualize(min=0, max=17, palette=PALETTE).getThumbUrl({\n",
    "                'region':roi_area,\n",
    "                'scale': 6\n",
    "    })    \n",
    "    \n",
    "print(url)\n",
    "Image(url=url)"
   ]
  },
  {
   "cell_type": "code",
   "execution_count": 8,
   "metadata": {
    "collapsed": false
   },
   "outputs": [
    {
     "name": "stdout",
     "output_type": "stream",
     "text": [
      "https://earthengine.googleapis.com/api/thumb?thumbid=0d2987a5b34647257659786fe25d5b57&token=f00627988d20c4b9f0172d9f5d77ad6a\n"
     ]
    },
    {
     "data": {
      "text/html": [
       "<img src=\"https://earthengine.googleapis.com/api/thumb?thumbid=0d2987a5b34647257659786fe25d5b57&token=f00627988d20c4b9f0172d9f5d77ad6a\"/>"
      ],
      "text/plain": [
       "<IPython.core.display.Image object>"
      ]
     },
     "execution_count": 8,
     "metadata": {},
     "output_type": "execute_result"
    }
   ],
   "source": [
    "url = image5.visualize(min=0, max=17, palette=PALETTE).getThumbUrl({\n",
    "                'region':roi_area,\n",
    "                'scale': 6\n",
    "    })    \n",
    "    \n",
    "print(url)\n",
    "Image(url=url)"
   ]
  },
  {
   "cell_type": "code",
   "execution_count": 9,
   "metadata": {
    "collapsed": false
   },
   "outputs": [
    {
     "name": "stdout",
     "output_type": "stream",
     "text": [
      "https://earthengine.googleapis.com/api/thumb?thumbid=caaca1b387d6ae1d3acd19089af77f9e&token=5db823dc8d8f833665f3421d97103c99\n"
     ]
    },
    {
     "data": {
      "text/html": [
       "<img src=\"https://earthengine.googleapis.com/api/thumb?thumbid=caaca1b387d6ae1d3acd19089af77f9e&token=5db823dc8d8f833665f3421d97103c99\"/>"
      ],
      "text/plain": [
       "<IPython.core.display.Image object>"
      ]
     },
     "execution_count": 9,
     "metadata": {},
     "output_type": "execute_result"
    }
   ],
   "source": [
    "url = image6.visualize(min=0, max=17, palette=PALETTE).getThumbUrl({\n",
    "                'region':roi_area,\n",
    "                'scale': 6\n",
    "    })    \n",
    "    \n",
    "print(url)\n",
    "Image(url=url)"
   ]
  },
  {
   "cell_type": "code",
   "execution_count": null,
   "metadata": {
    "collapsed": true
   },
   "outputs": [],
   "source": []
  }
 ],
 "metadata": {
  "kernelspec": {
   "display_name": "Python [Root]",
   "language": "python",
   "name": "Python [Root]"
  },
  "language_info": {
   "codemirror_mode": {
    "name": "ipython",
    "version": 2
   },
   "file_extension": ".py",
   "mimetype": "text/x-python",
   "name": "python",
   "nbconvert_exporter": "python",
   "pygments_lexer": "ipython2",
   "version": "2.7.12"
  }
 },
 "nbformat": 4,
 "nbformat_minor": 0
}
