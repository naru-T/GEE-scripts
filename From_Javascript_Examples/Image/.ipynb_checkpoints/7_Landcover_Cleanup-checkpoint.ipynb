{
 "cells": [
  {
   "cell_type": "markdown",
   "metadata": {},
   "source": [
    "# 7. Landcover Cleanup"
   ]
  },
  {
   "cell_type": "markdown",
   "metadata": {},
   "source": [
    "## Javascript"
   ]
  },
  {
   "cell_type": "markdown",
   "metadata": {},
   "source": [
    "\n",
    "// Display the MODIS land cover classification image with appropriate colors.\n",
    "\n",
    "// Force projection of 500 meters/pixel, which is the native MODIS resolution.\n",
    "\n",
    "var SCALE = 500;\n",
    "\n",
    "var image1 = ee.Image('MCD12Q1/MCD12Q1_005_2001_01_01');\n",
    "\n",
    "var image2 = image1.select(['Land_Cover_Type_1']);\n",
    "\n",
    "var image3 = image2.reproject('EPSG:4326', null, SCALE);\n",
    "\n",
    "var image4 = image3.focal_mode();\n",
    "\n",
    "var image5 = image4.focal_max(3).focal_min(5).focal_max(3);\n",
    "\n",
    "var image6 = image5.reproject('EPSG:4326', null, SCALE);\n",
    "\n",
    "var PALETTE = [\n",
    "    'aec3d4', // water\n",
    "    '152106', '225129', '369b47', '30eb5b', '387242', // forest\n",
    "    '6a2325', 'c3aa69', 'b76031', 'd9903d', '91af40', // shrub, grass, savannah\n",
    "    '111149', // wetlands\n",
    "    'cdb33b', // croplands\n",
    "    'cc0013', // urban\n",
    "    '33280d', // crop mosaic\n",
    "    'd7cdcc', // snow and ice\n",
    "    'f7e084', // barren\n",
    "    '6f6f6f'  // tundra\n",
    "].join(',');\n",
    "\n",
    "var vis_params = {min: 0, max: 17, palette: PALETTE};\n",
    "\n",
    "Map.setCenter(-113.41842, 40.055489, 6);\n",
    "\n",
    "Map.addLayer(image2, vis_params, 'IGBP classification');\n",
    "\n",
    "Map.addLayer(image3, vis_params, 'Reprojected');\n",
    "\n",
    "Map.addLayer(image4, vis_params, 'Mode');\n",
    "\n",
    "Map.addLayer(image5, vis_params, 'Smooth');\n",
    "\n",
    "Map.addLayer(image6, vis_params, 'Smooth');\n"
   ]
  },
  {
   "cell_type": "markdown",
   "metadata": {},
   "source": [
    "## Python"
   ]
  },
  {
   "cell_type": "code",
   "execution_count": 16,
   "metadata": {
    "collapsed": true
   },
   "outputs": [],
   "source": [
    "%matplotlib inline\n",
    "from IPython.display import Image, display, HTML\n",
    "import ee\n",
    "ee.Initialize()"
   ]
  },
  {
   "cell_type": "markdown",
   "metadata": {},
   "source": [
    "Display the MODIS land cover classification image with appropriate colors.\n",
    "Force projection of 500 meters/pixel, which is the native MODIS resolution."
   ]
  },
  {
   "cell_type": "markdown",
   "metadata": {},
   "source": [
    "in python, null should be replaced by None"
   ]
  },
  {
   "cell_type": "code",
   "execution_count": 27,
   "metadata": {
    "collapsed": false
   },
   "outputs": [],
   "source": [
    "SCALE = 500\n",
    "image1 = ee.Image('MCD12Q1/MCD12Q1_005_2001_01_01')\n",
    "image2 = image1.select(['Land_Cover_Type_1'])\n",
    "image3 = image2.reproject('EPSG:4326', None, SCALE)\n",
    "image4 = image3.focal_mode()\n",
    "image5 = image4.focal_max(3).focal_min(5).focal_max(3)\n",
    "image6 = image5.reproject('EPSG:4326', None, SCALE)"
   ]
  },
  {
   "cell_type": "code",
   "execution_count": 40,
   "metadata": {
    "collapsed": false
   },
   "outputs": [],
   "source": [
    "PALETTE= [\n",
    "    'aec3d4', # water\n",
    "    '152106', '225129', '369b47', '30eb5b', '387242', # forest\n",
    "    '6a2325', 'c3aa69', 'b76031', 'd9903d', '91af40', # shrub, grass, savannah\n",
    "    '111149', # wetlands\n",
    "    'cdb33b', # croplands\n",
    "    'cc0013', # urban\n",
    "    '33280d', # crop mosaic\n",
    "    'd7cdcc', # snow and ice\n",
    "    'f7e084', # barren\n",
    "    '6f6f6f'  # tundra\n",
    "]\n",
    "#.join(',')\n",
    "#vis_params = {'min': 0, \n",
    "#              'max': 17, \n",
    "#              'palette': PALETTE,\n",
    "#              'region':roi_area,\n",
    "#              'scale': 6}"
   ]
  },
  {
   "cell_type": "code",
   "execution_count": 41,
   "metadata": {
    "collapsed": true
   },
   "outputs": [],
   "source": [
    "point = ee.Geometry.Point(-113.41842, 40.055489)\n",
    "roi_area = point.buffer(500000).bounds().getInfo()['coordinates']"
   ]
  },
  {
   "cell_type": "markdown",
   "metadata": {},
   "source": [
    "NOTE: color parameters should be input in visualize function"
   ]
  },
  {
   "cell_type": "code",
   "execution_count": 48,
   "metadata": {
    "collapsed": false
   },
   "outputs": [
    {
     "name": "stdout",
     "output_type": "stream",
     "text": [
      "https://earthengine.googleapis.com//api/thumb?thumbid=5cab7ca207e4344d5be234ba8357f752&token=b1b8ecd23bd70983102d4518ebd92dba\n"
     ]
    },
    {
     "data": {
      "text/html": [
       "<img src=\"https://earthengine.googleapis.com//api/thumb?thumbid=5cab7ca207e4344d5be234ba8357f752&token=b1b8ecd23bd70983102d4518ebd92dba\"/>"
      ],
      "text/plain": [
       "<IPython.core.display.Image object>"
      ]
     },
     "execution_count": 48,
     "metadata": {},
     "output_type": "execute_result"
    }
   ],
   "source": [
    "url = image2.visualize(min=0, max=17, palette=PALETTE).getThumbUrl({\n",
    "                'region':roi_area,\n",
    "                'scale': 6\n",
    "    })    \n",
    "    \n",
    "print(url)\n",
    "Image(url=url)"
   ]
  },
  {
   "cell_type": "code",
   "execution_count": 50,
   "metadata": {
    "collapsed": false
   },
   "outputs": [
    {
     "name": "stdout",
     "output_type": "stream",
     "text": [
      "https://earthengine.googleapis.com//api/thumb?thumbid=d0cce18881fc90e9642ad73567b5f2ea&token=cedcd588dc7d92c86a704d31a8955625\n"
     ]
    },
    {
     "data": {
      "text/html": [
       "<img src=\"https://earthengine.googleapis.com//api/thumb?thumbid=d0cce18881fc90e9642ad73567b5f2ea&token=cedcd588dc7d92c86a704d31a8955625\"/>"
      ],
      "text/plain": [
       "<IPython.core.display.Image object>"
      ]
     },
     "execution_count": 50,
     "metadata": {},
     "output_type": "execute_result"
    }
   ],
   "source": [
    "url = image3.visualize(min=0, max=17, palette=PALETTE).getThumbUrl({\n",
    "                'region':roi_area,\n",
    "                'scale': 6\n",
    "    })    \n",
    "    \n",
    "print(url)\n",
    "Image(url=url)"
   ]
  },
  {
   "cell_type": "code",
   "execution_count": 51,
   "metadata": {
    "collapsed": false
   },
   "outputs": [
    {
     "name": "stdout",
     "output_type": "stream",
     "text": [
      "https://earthengine.googleapis.com//api/thumb?thumbid=47664a8a99a52d3be488f37e16b74484&token=8bb80f3ffc7de6b158439be369aa4597\n"
     ]
    },
    {
     "data": {
      "text/html": [
       "<img src=\"https://earthengine.googleapis.com//api/thumb?thumbid=47664a8a99a52d3be488f37e16b74484&token=8bb80f3ffc7de6b158439be369aa4597\"/>"
      ],
      "text/plain": [
       "<IPython.core.display.Image object>"
      ]
     },
     "execution_count": 51,
     "metadata": {},
     "output_type": "execute_result"
    }
   ],
   "source": [
    "url = image4.visualize(min=0, max=17, palette=PALETTE).getThumbUrl({\n",
    "                'region':roi_area,\n",
    "                'scale': 6\n",
    "    })    \n",
    "    \n",
    "print(url)\n",
    "Image(url=url)"
   ]
  },
  {
   "cell_type": "code",
   "execution_count": 52,
   "metadata": {
    "collapsed": false
   },
   "outputs": [
    {
     "name": "stdout",
     "output_type": "stream",
     "text": [
      "https://earthengine.googleapis.com//api/thumb?thumbid=0d2987a5b34647257659786fe25d5b57&token=500195f700de8e3c608377ff21b6780d\n"
     ]
    },
    {
     "data": {
      "text/html": [
       "<img src=\"https://earthengine.googleapis.com//api/thumb?thumbid=0d2987a5b34647257659786fe25d5b57&token=500195f700de8e3c608377ff21b6780d\"/>"
      ],
      "text/plain": [
       "<IPython.core.display.Image object>"
      ]
     },
     "execution_count": 52,
     "metadata": {},
     "output_type": "execute_result"
    }
   ],
   "source": [
    "url = image5.visualize(min=0, max=17, palette=PALETTE).getThumbUrl({\n",
    "                'region':roi_area,\n",
    "                'scale': 6\n",
    "    })    \n",
    "    \n",
    "print(url)\n",
    "Image(url=url)"
   ]
  },
  {
   "cell_type": "code",
   "execution_count": 53,
   "metadata": {
    "collapsed": false
   },
   "outputs": [
    {
     "name": "stdout",
     "output_type": "stream",
     "text": [
      "https://earthengine.googleapis.com//api/thumb?thumbid=caaca1b387d6ae1d3acd19089af77f9e&token=9f6373f714ad4bd48b6c067c660366cd\n"
     ]
    },
    {
     "data": {
      "text/html": [
       "<img src=\"https://earthengine.googleapis.com//api/thumb?thumbid=caaca1b387d6ae1d3acd19089af77f9e&token=9f6373f714ad4bd48b6c067c660366cd\"/>"
      ],
      "text/plain": [
       "<IPython.core.display.Image object>"
      ]
     },
     "execution_count": 53,
     "metadata": {},
     "output_type": "execute_result"
    }
   ],
   "source": [
    "url = image6.visualize(min=0, max=17, palette=PALETTE).getThumbUrl({\n",
    "                'region':roi_area,\n",
    "                'scale': 6\n",
    "    })    \n",
    "    \n",
    "print(url)\n",
    "Image(url=url)"
   ]
  },
  {
   "cell_type": "code",
   "execution_count": null,
   "metadata": {
    "collapsed": true
   },
   "outputs": [],
   "source": []
  }
 ],
 "metadata": {
  "kernelspec": {
   "display_name": "Python 2",
   "language": "python",
   "name": "python2"
  },
  "language_info": {
   "codemirror_mode": {
    "name": "ipython",
    "version": 2
   },
   "file_extension": ".py",
   "mimetype": "text/x-python",
   "name": "python",
   "nbconvert_exporter": "python",
   "pygments_lexer": "ipython2",
   "version": "2.7.10"
  }
 },
 "nbformat": 4,
 "nbformat_minor": 0
}
