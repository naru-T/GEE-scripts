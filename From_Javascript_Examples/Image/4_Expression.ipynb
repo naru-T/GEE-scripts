{
 "cells": [
  {
   "cell_type": "markdown",
   "metadata": {},
   "source": [
    "# Expression"
   ]
  },
  {
   "cell_type": "markdown",
   "metadata": {},
   "source": [
    "## Javascript"
   ]
  },
  {
   "cell_type": "markdown",
   "metadata": {},
   "source": [
    "Compute Enhanced Vegetation Index over the MODIS MOD09GA product usingan expression.\n",
    "\n",
    "var img = ee.Image('MOD09GA/MOD09GA_005_2012_03_09').multiply(0.0001);\n",
    "\n",
    "var evi = img.expression(\n",
    "    '2.5 * (nir - red) / (nir + 6 * red - 7.5 * blue + 1)',\n",
    "    {\n",
    "    \n",
    "        red: img.select('sur_refl_b01'),    // 620-670nm, RED\n",
    "        \n",
    "        nir: img.select('sur_refl_b02'),    // 841-876nm, NIR\n",
    "        \n",
    "        blue: img.select('sur_refl_b03')    // 459-479nm, BLUE\n",
    "           });\n",
    "\n",
    "Map.setCenter(-94.84497, 39.01918, 8);\n",
    "\n",
    "Map.addLayer(img.select(['sur_refl_b01', 'sur_refl_b04', 'sur_refl_b03']),\n",
    "         {min: 0, max: 0.2}, 'MODIS bands 1/4/3');\n",
    "\n",
    "Map.addLayer(evi, {min: 0, max: 1}, 'EVI');\n",
    "\n"
   ]
  },
  {
   "cell_type": "markdown",
   "metadata": {},
   "source": [
    "## Python"
   ]
  },
  {
   "cell_type": "code",
   "execution_count": 1,
   "metadata": {
    "collapsed": true
   },
   "outputs": [],
   "source": [
    "%matplotlib inline\n",
    "from IPython.display import Image, display, HTML\n",
    "import ee\n",
    "ee.Initialize()"
   ]
  },
  {
   "cell_type": "code",
   "execution_count": 2,
   "metadata": {
    "collapsed": true
   },
   "outputs": [],
   "source": [
    "img = ee.Image('MOD09GA/MOD09GA_005_2012_03_09').multiply(0.0001)"
   ]
  },
  {
   "cell_type": "code",
   "execution_count": 3,
   "metadata": {
    "collapsed": false
   },
   "outputs": [],
   "source": [
    " evi = img.expression( '2.5 * (nir - red) / (nir + 6 * red - 7.5 * blue + 1)',\n",
    "    {\n",
    "    'red': img.select('sur_refl_b01'),    # 620-670nm, RED\n",
    "    'nir': img.select('sur_refl_b02'),    # 841-876nm, NIR\n",
    "    'blue': img.select('sur_refl_b03')    # 459-479nm, BLUE\n",
    "       });"
   ]
  },
  {
   "cell_type": "code",
   "execution_count": 4,
   "metadata": {
    "collapsed": true
   },
   "outputs": [],
   "source": [
    "point = ee.Geometry.Point(-94.84497, 39.01918)\n",
    "roi_area = point.buffer(50000).bounds().getInfo()['coordinates']"
   ]
  },
  {
   "cell_type": "code",
   "execution_count": 5,
   "metadata": {
    "collapsed": false
   },
   "outputs": [
    {
     "name": "stdout",
     "output_type": "stream",
     "text": [
      "https://earthengine.googleapis.com/api/thumb?thumbid=1e84687d5da631b97db1565f58d1d703&token=faa1538467bfdd85feb20548ffa1400e\n"
     ]
    },
    {
     "data": {
      "text/html": [
       "<img src=\"https://earthengine.googleapis.com/api/thumb?thumbid=1e84687d5da631b97db1565f58d1d703&token=faa1538467bfdd85feb20548ffa1400e\"/>"
      ],
      "text/plain": [
       "<IPython.core.display.Image object>"
      ]
     },
     "execution_count": 5,
     "metadata": {},
     "output_type": "execute_result"
    }
   ],
   "source": [
    "image143 = img.select(['sur_refl_b01', 'sur_refl_b04', 'sur_refl_b03'])\n",
    "url = image143.getThumbUrl({\n",
    "                'min':0,\n",
    "                'max':0.2,\n",
    "                'region':roi_area,\n",
    "                'scale': 8\n",
    "    })    \n",
    "    \n",
    "print(url)\n",
    "Image(url=url)"
   ]
  },
  {
   "cell_type": "code",
   "execution_count": 6,
   "metadata": {
    "collapsed": false
   },
   "outputs": [
    {
     "name": "stdout",
     "output_type": "stream",
     "text": [
      "https://earthengine.googleapis.com/api/thumb?thumbid=111e896f32accee1da701b15fd1a13e5&token=1e9563cd9cd4c390b25c22c70ae1cd9d\n"
     ]
    },
    {
     "data": {
      "text/html": [
       "<img src=\"https://earthengine.googleapis.com/api/thumb?thumbid=111e896f32accee1da701b15fd1a13e5&token=1e9563cd9cd4c390b25c22c70ae1cd9d\"/>"
      ],
      "text/plain": [
       "<IPython.core.display.Image object>"
      ]
     },
     "execution_count": 6,
     "metadata": {},
     "output_type": "execute_result"
    }
   ],
   "source": [
    "url = evi.getThumbUrl({\n",
    "                'min':0,\n",
    "                'max':1,\n",
    "                'region':roi_area,\n",
    "                'scale': 8\n",
    "    })    \n",
    "    \n",
    "print(url)\n",
    "Image(url=url)"
   ]
  },
  {
   "cell_type": "code",
   "execution_count": null,
   "metadata": {
    "collapsed": true
   },
   "outputs": [],
   "source": []
  }
 ],
 "metadata": {
  "kernelspec": {
   "display_name": "Python [Root]",
   "language": "python",
   "name": "Python [Root]"
  },
  "language_info": {
   "codemirror_mode": {
    "name": "ipython",
    "version": 2
   },
   "file_extension": ".py",
   "mimetype": "text/x-python",
   "name": "python",
   "nbconvert_exporter": "python",
   "pygments_lexer": "ipython2",
   "version": "2.7.12"
  }
 },
 "nbformat": 4,
 "nbformat_minor": 0
}
