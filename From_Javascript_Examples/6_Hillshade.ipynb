{
 "cells": [
  {
   "cell_type": "markdown",
   "metadata": {},
   "source": [
    "# 6. Hillshade"
   ]
  },
  {
   "cell_type": "markdown",
   "metadata": {},
   "source": [
    "## Javascript"
   ]
  },
  {
   "cell_type": "markdown",
   "metadata": {},
   "source": [
    "// Hillshade example.\n",
    "\n",
    "function radians(img) {\n",
    "  return img.toFloat().multiply(Math.PI).divide(180);\n",
    "}\n",
    "\n",
    "// Compute hillshade for the given illumination az, el.\n",
    "\n",
    "function hillshade(az, ze, slope, aspect) {\n",
    "\n",
    "  var azimuth = radians(ee.Image(az));\n",
    "  \n",
    "  var zenith = radians(ee.Image(ze));\n",
    "  \n",
    "  // Hillshade = cos(Azimuth - Aspect) * sin(Slope) * sin(Zenith) +\n",
    "  \n",
    "  //     cos(Zenith) * cos(Slope)\n",
    "  \n",
    "  return azimuth.subtract(aspect).cos()\n",
    "  \n",
    "    .multiply(slope.sin())\n",
    "    \n",
    "    .multiply(zenith.sin())\n",
    "    \n",
    "    .add(\n",
    "      zenith.cos().multiply(slope.cos()));\n",
    "}\n",
    "\n",
    "var terrain = ee.Algorithms.Terrain(ee.Image('srtm90_v4'));\n",
    "\n",
    "var slope = radians(terrain.select('slope'));\n",
    "\n",
    "var aspect = radians(terrain.select('aspect'));\n",
    "\n",
    "for (var i = 0; i < 360; i += 60) {\n",
    "  Map.addLayer(hillshade(i, 60, slope, aspect), {}, i + ' deg');\n",
    "}\n",
    "Map.setCenter(-121.767, 46.852, 11);\n",
    "\n"
   ]
  },
  {
   "cell_type": "markdown",
   "metadata": {},
   "source": [
    "## Python"
   ]
  },
  {
   "cell_type": "code",
   "execution_count": 11,
   "metadata": {
    "collapsed": true
   },
   "outputs": [],
   "source": [
    "%matplotlib inline\n",
    "from IPython.display import Image, display, HTML\n",
    "import ee\n",
    "ee.Initialize()\n",
    "import math"
   ]
  },
  {
   "cell_type": "code",
   "execution_count": 14,
   "metadata": {
    "collapsed": false
   },
   "outputs": [],
   "source": [
    "def radians(img):\n",
    "    return img.toFloat().multiply(math.pi).divide(180)"
   ]
  },
  {
   "cell_type": "markdown",
   "metadata": {},
   "source": [
    "Compute hillshade for the given illumination az, el."
   ]
  },
  {
   "cell_type": "code",
   "execution_count": 20,
   "metadata": {
    "collapsed": false
   },
   "outputs": [],
   "source": [
    "def hillshade(az, ze, slope, aspect):\n",
    "    azimuth = radians(ee.Image(az))\n",
    "    zenith = radians(ee.Image(ze)) \n",
    "    ## Hillshade = cos(Azimuth - Aspect) * sin(Slope) * sin(Zenith) + cos(Zenith) * cos(Slope)\n",
    "    return azimuth.subtract(aspect).cos().multiply(slope.sin()).multiply(zenith.sin()).add(\n",
    "      zenith.cos().multiply(slope.cos()))"
   ]
  },
  {
   "cell_type": "code",
   "execution_count": 15,
   "metadata": {
    "collapsed": false
   },
   "outputs": [],
   "source": [
    "terrain = ee.Algorithms.Terrain(ee.Image('srtm90_v4'))\n",
    "slope = radians(terrain.select('slope'))\n",
    "aspect = radians(terrain.select('aspect'))"
   ]
  },
  {
   "cell_type": "code",
   "execution_count": 16,
   "metadata": {
    "collapsed": true
   },
   "outputs": [],
   "source": [
    "point = ee.Geometry.Point(-121.767, 46.852)\n",
    "roi_area = point.buffer(50000).bounds().getInfo()['coordinates']"
   ]
  },
  {
   "cell_type": "markdown",
   "metadata": {},
   "source": [
    "test"
   ]
  },
  {
   "cell_type": "code",
   "execution_count": 21,
   "metadata": {
    "collapsed": false
   },
   "outputs": [
    {
     "name": "stdout",
     "output_type": "stream",
     "text": [
      "https://earthengine.googleapis.com//api/thumb?thumbid=26dada6021f851adac983fae4ecf0c7c&token=123bd048803cdfe791ccd5a12bd297c8\n"
     ]
    },
    {
     "data": {
      "text/html": [
       "<img src=\"https://earthengine.googleapis.com//api/thumb?thumbid=26dada6021f851adac983fae4ecf0c7c&token=123bd048803cdfe791ccd5a12bd297c8\"/>"
      ],
      "text/plain": [
       "<IPython.core.display.Image object>"
      ]
     },
     "execution_count": 21,
     "metadata": {},
     "output_type": "execute_result"
    }
   ],
   "source": [
    "url = hillshade(0, 60, slope, aspect).getThumbUrl({\n",
    "                'region':roi_area,\n",
    "                'scale': 11\n",
    "    })    \n",
    "    \n",
    "print(url)\n",
    "Image(url=url)"
   ]
  },
  {
   "cell_type": "markdown",
   "metadata": {},
   "source": [
    "for loop"
   ]
  },
  {
   "cell_type": "code",
   "execution_count": 22,
   "metadata": {
    "collapsed": false
   },
   "outputs": [
    {
     "name": "stdout",
     "output_type": "stream",
     "text": [
      "https://earthengine.googleapis.com//api/thumb?thumbid=26dada6021f851adac983fae4ecf0c7c&token=4bd9cd4382f6567645af430ce45adbab\n",
      "https://earthengine.googleapis.com//api/thumb?thumbid=c8c97a945f68ceeb70293b0bc545c4c6&token=2c40a15b8abb66edc691d51bdd891e25\n",
      "https://earthengine.googleapis.com//api/thumb?thumbid=441b583ff466ac90c18de6ff91ecc9d8&token=d51d7136af870d266d9a15287dacd598\n",
      "https://earthengine.googleapis.com//api/thumb?thumbid=15b84822af4d9d4de65b0e859d9bc7a0&token=b6d1cad400fbfacdad2df041f655e73c\n",
      "https://earthengine.googleapis.com//api/thumb?thumbid=5c33d5c6fdefb75e976561fde0318cd0&token=6374a503c7a97d86bcd698c9a370d638\n",
      "https://earthengine.googleapis.com//api/thumb?thumbid=679d9059186044347d4a796b538e12ab&token=f8b032756b962b972f42cf62aee1f69f\n"
     ]
    }
   ],
   "source": [
    "for  i in range(0,360,60):\n",
    "    url = hillshade(i, 60, slope, aspect).getThumbUrl({\n",
    "                'region':roi_area,\n",
    "                'scale': 11\n",
    "    })    \n",
    "    print(url)\n",
    "    Image(url=url)\n",
    "    "
   ]
  },
  {
   "cell_type": "code",
   "execution_count": null,
   "metadata": {
    "collapsed": true
   },
   "outputs": [],
   "source": []
  }
 ],
 "metadata": {
  "kernelspec": {
   "display_name": "Python 2",
   "language": "python",
   "name": "python2"
  },
  "language_info": {
   "codemirror_mode": {
    "name": "ipython",
    "version": 2
   },
   "file_extension": ".py",
   "mimetype": "text/x-python",
   "name": "python",
   "nbconvert_exporter": "python",
   "pygments_lexer": "ipython2",
   "version": "2.7.10"
  }
 },
 "nbformat": 4,
 "nbformat_minor": 0
}
